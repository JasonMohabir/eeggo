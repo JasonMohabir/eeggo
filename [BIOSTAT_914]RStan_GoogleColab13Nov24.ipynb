{
  "cells": [
    {
      "cell_type": "markdown",
      "metadata": {
        "id": "ktTvMg4nfxDD"
      },
      "source": [
        "## RStan Final Project Workbook\n",
        "\n",
        "Useful resource: https://mc-stan.org/docs/stan-users-guide/regression.html"
      ]
    },
    {
      "cell_type": "markdown",
      "source": [
        "## Questions/TO DO:\n",
        "\n",
        "* Should we model beta for a single gene at a time, and then run this model for each gene?\n",
        "\n",
        "* Should we standardize our expression levels?\n",
        "\n",
        "* To do: write code to Analyze $Y$ predictions (expression levels) and perform other diagnostics"
      ],
      "metadata": {
        "id": "BVKxzI-tw1rP"
      }
    },
    {
      "cell_type": "markdown",
      "source": [
        "The paper which describes the biological phenomenon/experimental problem is:\n",
        "\n",
        "* Gasperini M, Hill AJ, McFaline-Figueroa JL, et al. (2019) A Genome-wide Framework for Mapping Gene Regulation via Cellular Genetic Screens. Cell 176(1-2):377-390.e19.\n",
        "doi:10.1016/j.cell.2018.11.029"
      ],
      "metadata": {
        "id": "Q1_YjBcOuy7S"
      }
    },
    {
      "cell_type": "markdown",
      "source": [
        "## The Experiment\n",
        "\n",
        "* Each cell receives either 0 or 1 guide; a guide ID of -1 denotes no guide inthe cell (control)\n",
        "\n",
        "* Some guides are functional, and _some are non-functional._ Which guides are functional is _not_ known a priori.\n",
        "\n",
        "* Each enhancer is targeted by 5 guides, but each cell only gets one guide (or no guide for the control cells).\n",
        "\n",
        "* The goal is to **estimate the effect size**, $\\beta$, of each enhancer on each gene. This estimate should **aggregate information accross the guides** targeting the enhancer.\n",
        "\n",
        "* A $\\beta$ of 1 indicates _no effect_; a $\\beta < 1$ means that perturbing the enhancer reduces gene expression by a proporrtion given by $\\beta$. Thus, $Y = \\beta X$, where $X$ is the control expression level, $\\beta$ is the effect size, and $T$ is the treatment expression level when the hancer is perturbed by a _functional_ guide. Remember that nonfunctional guides do _not_ perturb the expression; unfortunately, which guides are functional is not known a priori.\n",
        "\n",
        "Our goal is to use STAN or JAGS to implement a Bayesian hierarchical model to estimate the $\\beta$ values (one for each enhancer-gene pair), aggregating information across the guides targeting an enhancer while accounting for the unknown functional status of individual guides. Run your model on the data and use the true-betas file to evaluate your predictions.\n",
        "\n",
        "* **This estimate should aggregate information accross the guides targeting the enhancer.**"
      ],
      "metadata": {
        "id": "h2pFjArvvEN1"
      }
    },
    {
      "cell_type": "markdown",
      "source": [
        "## To Use on Slurm\n",
        "\n",
        "#### Create environment\n",
        "\n",
        "```\n",
        "conda create stanenv\n",
        "conda active stanenv\n",
        "module load R/4.4.0\n",
        "R\n",
        "```\n",
        "\n",
        "Once in R, run `install.packages(\"rstan\")`. Once finished, type `q()` to quit and press `n` so you don't save your environment.\n",
        "\n",
        "\n",
        "#### Interactive on Biostat\n",
        "\n",
        "```\n",
        "srun --account biostat --partition biostat --mem 32GB --cpus-per-task 4 --pty bash -i\n",
        "conda activate stanenv\n",
        "module load R/4.4.0\n",
        "R\n",
        "```\n",
        "\n",
        "In R, load `rstan`, or install it if you don't have it.\n",
        "\n",
        "```\n",
        "install.packages(\"rstan\")\n",
        "library(\"rstan\")\n",
        "```\n",
        "\n",
        "#### Script for batch files on Biostat Partition\n",
        "\n",
        "`sbatch rstan_slurm_script.sh`\n",
        "\n",
        "```\n",
        "#!/bin/bash\n",
        "#SBATCH --account=biostat\n",
        "#SBATCH --partition=biostat\n",
        "#SBATCH --job-name=stan_job\n",
        "#SBATCH --time=72:00:00 # 72hrs should be sufficient\n",
        "#SBATCH --mem=16G  # 16GB is prob enough\n",
        "#SBATCH --ntasks=1\n",
        "#SBATCH -o stdout_STAN_%j.stdout.out\n",
        "#SBATCH -e stderr_STAN_%j.stderr.out\n",
        "#SBATCH --cpus-per-task=4 # Want four threads\n",
        "\n",
        "# Load an environement that has rstan in it\n",
        "source activate stanenv\n",
        "\n",
        "module load R/4.4.0\n",
        "export STAN_NUM_THREADS=$SLURM_CPUS_PER_TASK  # if using multi-threading\n",
        "\n",
        "# Run your R script that calls Stan\n",
        "Rscript RSTAN.R\n",
        "```\n",
        "\n",
        "#### `RSTAN.R` Example\n",
        "\n",
        "```\n",
        "# Load rstan library\n",
        "dat <- read.table(\"./final/data1.txt\", header = TRUE, sep = '\\t')\n",
        "\n",
        "dat <- dat[dat$geneID %in% 1:5,]\n",
        "\n",
        "dat$gene_enhancer <- paste(\"( \", dat$geneID, \", \", dat$enhancerID, \")\", sep = '')\n",
        "\n",
        "# Load necessary library\n",
        "library(rstan)\n",
        "\n",
        "# Step 1: Load and Normalize Data\n",
        "# Assuming 'dat' is already loaded as your data frame with columns:\n",
        "# 'geneID', 'enhancerID', 'guideID', 'cellID', 'expression', 'gene_enhancer'\n",
        "\n",
        "# Normalize 'expression' to mean 0 and unit variance\n",
        "dat$expression <- scale(dat$expression, center = TRUE, scale = TRUE)\n",
        "\n",
        "# Convert 'gene_enhancer' to a factor and then to an integer index\n",
        "dat$gene_enhancer <- as.factor(dat$gene_enhancer)\n",
        "\n",
        "# Prepare the data for Stan\n",
        "stan_data <- list(\n",
        "  N = nrow(dat),                            # Number of observations\n",
        "  G = length(unique(dat$gene_enhancer)),    # Number of unique gene_enhancer pairs\n",
        "  gene_enhancer = as.integer(dat$gene_enhancer),  # Index for gene_enhancer pairs\n",
        "  expression = as.vector(dat$expression)    # Normalized expression values\n",
        ")\n",
        "\n",
        "# Step 2: Write the Stan Model Code\n",
        "stan_model_code <- \"\n",
        "data {\n",
        "  int<lower=1> N;                           // Number of observations\n",
        "  int<lower=1> G;                           // Number of unique gene_enhancer pairs\n",
        "  int<lower=1, upper=G> gene_enhancer[N];   // Gene-enhancer pair index for each observation\n",
        "  vector[N] expression;                     // Normalized expression values\n",
        "}\n",
        "\n",
        "parameters {\n",
        "  vector<lower=0, upper=1>[G] beta;         // Beta coefficients for each gene_enhancer pair, constrained to [0, 1]\n",
        "}\n",
        "\n",
        "model {\n",
        "  // Likelihood: Expression modeled as normally distributed around beta[gene_enhancer] with unit variance\n",
        "  expression ~ normal(beta[gene_enhancer], 1);\n",
        "}\n",
        "\"\n",
        "\n",
        "# Step 3: Fit the Model with RStan\n",
        "# Compile and sample from the model\n",
        "fit <- stan(model_code = stan_model_code, data = stan_data, iter = 2000, chains = 4)\n",
        "\n",
        "# Step 4: Review Results\n",
        "# Print the summary of the beta coefficients\n",
        "print(fit, pars = \"beta\")\n",
        "\n",
        "# Optionally extract and plot results\n",
        "beta_estimates <- extract(fit)$beta\n",
        "\n",
        "print(beta_estimates)\n",
        "```\n",
        "\n",
        "#### Submitting the Batch Script\n",
        "\n",
        "```\n",
        "sbatch rstan_slurm_script.sh\n",
        "```\n"
      ],
      "metadata": {
        "id": "iLpZokCdp8x4"
      }
    },
    {
      "cell_type": "markdown",
      "source": [
        "## Writeup Notes"
      ],
      "metadata": {
        "id": "1s_u2LzLlYXc"
      }
    },
    {
      "cell_type": "markdown",
      "source": [
        "# Grading\n",
        "\n",
        "Each bullet listed below is worth 5 points. If a topic was not addressed, 0 points will be given.\n",
        "\n",
        "If the topic was addressed fully, 5 points will be given. If the topic was addressed but important details were omitted, partial credit will be given.\n",
        "\n",
        "\n",
        "### Biological Problem (20 Points)\n",
        "\n",
        "* Was the biological problem clearly stated?\n",
        "* Was it clear exactly what type of model (e.g.., Multivariate HMM, Naive Bayes, Bayesian logistic regression, etc.) was applied?\n",
        "* Was the chosen type of model appropriate for the problem?\n",
        "* Was the prediction problem clearly stated, in terms of the features (inputs) and the biological prediction goal?\n",
        "\n",
        "### Data (15 Points)\n",
        "\n",
        "* Was the data clearly described, in terms of what the data values represent in the biology, and the sample sizes?\n",
        "* Was it clear whether the data were continuous or discrete (or both), and whether any special accommodations had to be made in the model to allow such data types?\n",
        "* Was the source of the data (or precisely how it was simulated) clearly identified? Data Pre-processing (10 points)\n",
        "* Was there a sentence describing data pre-processing (even if it only said that no pre- processing was necessary)?\n",
        "* Was the chosen pre-processing appropriate for the type of data used?\n",
        "\n",
        "### Model Description (30 points)\n",
        "\n",
        "* Was there a figure illustrating the model?\n",
        "* Was there a figure legend briefly explaining the figure?\n",
        "* Was the structure of the model clear (i.e., how variables or nodes relate to each other)?\n",
        "* Was the meaning of each variable or node in the model clear?\n",
        "* Was there an informed explanation of why this model should be applicable to this problem?\n",
        "* Was a baseline model described?\n",
        "\n",
        "### Training and Inference (15 Points)\n",
        "\n",
        "* Was the training/inference method clearly identified?\n",
        "* Was the chosen training/inference method appropriate for the type of model used?\n",
        "* Were inference parameters (such as numbers of iterations, etc.) described?\n",
        "\n",
        "### Model Evaluation (15 Points)\n",
        "\n",
        "* Was there a clear explanation of how the model was evaluated for accuracy/fit?\n",
        "* Was the evaluation method appropriate for the model?\n",
        "* Was the evaluation method appropriate for the type of data and the prediction task?\n",
        "\n",
        "### Results (10 Points)\n",
        "\n",
        "* Was there a clearly written results section included in the report?\n",
        "* If the model worked, was there a clear description of the accuracy/fit of the model, including a clearly labeled figure?\n",
        "  * If the model did not work, did the team attempt to diagnose and fix the problems, and was the accuracy of the alternate method provided (in Figure 2 and the text)?\n",
        "\n",
        "### Conclusions and Future Directions (10 Points)\n",
        "\n",
        "* Was there a conclusion section that adequately interpreted the results and their significance for the biological problem being addressed?\n",
        "* Were some plausible future directions proposed?\n",
        "\n",
        "### Penalties (written report only)\n",
        "\n",
        "* Were there more or fewer than 2 figures? **(-5 points)**\n",
        "* Was the model inappropriately trained and tested on the same data set (applicable only to models having a dedicated training phase), or was the model provided the true answer as an input? **(-5 points)**\n",
        "\n",
        "### Final Presentation\n",
        "\n",
        "* The team will present the model and the results during a 10-to-15-minute presentation near the end of the semester. Clearly describe the biological problem, the model, and the results, including any problems you encountered and what you did to try to diagnose and correct any difficulties. (10 points)\n"
      ],
      "metadata": {
        "id": "nh648iLLlg81"
      }
    },
    {
      "cell_type": "markdown",
      "source": [
        "#### Mount Google Drive, Define Root Directory (Not worth the time to do the security check, just drag and drop)"
      ],
      "metadata": {
        "id": "Dksp8iPeRqSx"
      }
    },
    {
      "cell_type": "code",
      "source": [
        "#from google.colab import drive\n",
        "#drive.mount('/content/drive')\n",
        "#root_dir = \"/content/drive/MyDrive/BIOSTATS914/\""
      ],
      "metadata": {
        "colab": {
          "base_uri": "https://localhost:8080/"
        },
        "id": "pPsB-h_ORp00",
        "outputId": "dae89a5f-b81f-4e8c-9f7e-27d71944a796"
      },
      "execution_count": null,
      "outputs": [
        {
          "output_type": "stream",
          "name": "stdout",
          "text": [
            "Mounted at /content/drive\n"
          ]
        }
      ]
    },
    {
      "cell_type": "markdown",
      "source": [
        "#### Install that RMagic"
      ],
      "metadata": {
        "id": "htGiN0A1Q93K"
      }
    },
    {
      "cell_type": "code",
      "execution_count": 1,
      "metadata": {
        "id": "9swSRRzuf69h"
      },
      "outputs": [],
      "source": [
        "%load_ext rpy2.ipython"
      ]
    },
    {
      "cell_type": "code",
      "source": [
        "%%R\n",
        "install.packages(\"rstan\")#, repos = \"https://cloud.r-project.org/\", dependencies = TRUE)"
      ],
      "metadata": {
        "id": "s081Jiupw1fo",
        "colab": {
          "base_uri": "https://localhost:8080/"
        },
        "outputId": "9293e504-4148-4eb9-e773-ee5ee51b3eac"
      },
      "execution_count": 2,
      "outputs": [
        {
          "output_type": "stream",
          "name": "stderr",
          "text": [
            "WARNING:rpy2.rinterface_lib.callbacks:R[write to console]: \n",
            "\n",
            "WARNING:rpy2.rinterface_lib.callbacks:R[write to console]: \n",
            "WARNING:rpy2.rinterface_lib.callbacks:R[write to console]: The downloaded source packages are in\n",
            "\t‘/tmp/RtmpWHOizn/downloaded_packages’\n",
            "WARNING:rpy2.rinterface_lib.callbacks:R[write to console]: \n",
            "WARNING:rpy2.rinterface_lib.callbacks:R[write to console]: \n",
            "\n"
          ]
        }
      ]
    },
    {
      "cell_type": "markdown",
      "source": [
        "## Loading Data\n",
        "\n",
        "* `geneID` - identifier\n",
        "\n",
        "* `enhancerID` - a putative enhancer being targeted by CRISPR; -1 means no targeting (control)\n",
        "\n",
        "* `guideID` - A guide RNA targeting this enhancer; -1 means no targeting (control)\n",
        "\n",
        "* `cellID` - The cell receiving the guide\n",
        "\n",
        "* `expression` - the measured expression level for this gene in this cell."
      ],
      "metadata": {
        "id": "vgC99-AoQ-pF"
      }
    },
    {
      "cell_type": "code",
      "source": [
        "%%R\n",
        "library(rstan)\n",
        "\n",
        "data <- read.csv(\"./data1.txt\", header = T, sep = '\\t')\n",
        "\n",
        "results <- read.csv(\"./true-betas1.txt\", header = T, sep = '\\t')"
      ],
      "metadata": {
        "id": "dVNUJtr9Q92x"
      },
      "execution_count": 17,
      "outputs": []
    },
    {
      "cell_type": "markdown",
      "source": [
        "## Checks"
      ],
      "metadata": {
        "id": "mXEWpgHaF33U"
      }
    },
    {
      "cell_type": "code",
      "source": [
        "%%R\n",
        "hist(results$beta)\n",
        "summary(results$beta)"
      ],
      "metadata": {
        "id": "tpcmVS0-p_vE",
        "colab": {
          "base_uri": "https://localhost:8080/",
          "height": 532
        },
        "outputId": "98bb2a78-7491-4611-9ae4-d32d6b898ca7"
      },
      "execution_count": 18,
      "outputs": [
        {
          "output_type": "stream",
          "name": "stdout",
          "text": [
            "   Min. 1st Qu.  Median    Mean 3rd Qu.    Max. \n",
            " 0.0700  0.6300  0.9100  0.8089  1.0000  1.0000 \n"
          ]
        },
        {
          "output_type": "display_data",
          "data": {
            "image/png": "[encoded data removed]"
          },
          "metadata": {}
        }
      ]
    },
    {
      "cell_type": "code",
      "source": [
        "%%R\n",
        "head(results)"
      ],
      "metadata": {
        "id": "V6aWAaxLqOqx",
        "colab": {
          "base_uri": "https://localhost:8080/"
        },
        "outputId": "f4ad8c81-4230-4a07-e27c-ab78a9cc1cdf"
      },
      "execution_count": 19,
      "outputs": [
        {
          "output_type": "stream",
          "name": "stdout",
          "text": [
            "  geneID enhancerID beta\n",
            "1      1          1 0.88\n",
            "2      1          2 0.59\n",
            "3      1          3 0.39\n",
            "4      1          4 0.70\n",
            "5      1          5 0.32\n",
            "6      2          6 1.00\n"
          ]
        }
      ]
    },
    {
      "cell_type": "code",
      "source": [
        "%%R\n",
        "head(table(data$geneID[1:500], data$enhancerID[1:500]))"
      ],
      "metadata": {
        "colab": {
          "base_uri": "https://localhost:8080/"
        },
        "id": "Glg0bn12F5Ce",
        "outputId": "a9171004-9f40-49d5-86d3-2d94c40cebb6"
      },
      "execution_count": 20,
      "outputs": [
        {
          "output_type": "stream",
          "name": "stdout",
          "text": [
            "   \n",
            "     -1   1   2   3   4\n",
            "  1  30 150 150 150  20\n"
          ]
        }
      ]
    },
    {
      "cell_type": "markdown",
      "source": [
        "## Pre-Processing\n",
        "\n",
        "1. Combine Gene-Enhancer Pairs\n",
        "\n",
        "2. **Transform Expression to Standard Normal!!!**"
      ],
      "metadata": {
        "id": "0k3iBNvyXHck"
      }
    },
    {
      "cell_type": "markdown",
      "source": [
        "## Baseline Model (Gene-EnhancerID pairs)"
      ],
      "metadata": {
        "id": "DHPk-zbvS5WN"
      }
    },
    {
      "cell_type": "code",
      "source": [
        "%%R\n",
        "data <- read.csv(\"./data1.txt\", header = T, sep = '\\t')\n",
        "\n",
        "results <- read.csv(\"./true-betas1.txt\", header = T, sep = '\\t')\n",
        "\n",
        "data$geneID <- NULL\n",
        "data$enhancerID <- NULL\n",
        "\n",
        "data$gene_enhancer <- as.integer(factor(data$gene_enhancer))\n",
        "\n",
        "## Subset\n",
        "data <- data[data$gene_enhancer %in% c(1:20),]\n",
        "print(nrow(data))\n",
        "\n",
        "# Scale\n",
        "# data$expression <- scale(data$expression)\n",
        "\n",
        "head(data)\n",
        "\n",
        "# Prepare the data list for Stan\n",
        "stan_data <- list(\n",
        "  N = nrow(data),\n",
        "  K = length(unique(data$gene_enhancer)),\n",
        "  gene_enhancer = data$gene_enhancer,\n",
        "  expression = data$expression\n",
        ")"
      ],
      "metadata": {
        "colab": {
          "base_uri": "https://localhost:8080/"
        },
        "id": "NFpZ8XIIRP79",
        "outputId": "98d5bb1b-c7a6-4b51-b222-3620e81688e6"
      },
      "execution_count": 12,
      "outputs": [
        {
          "output_type": "stream",
          "name": "stdout",
          "text": [
            "[1] 2520\n"
          ]
        }
      ]
    },
    {
      "cell_type": "code",
      "source": [
        "%%R\n",
        "summary(data$expression)"
      ],
      "metadata": {
        "colab": {
          "base_uri": "https://localhost:8080/"
        },
        "id": "s6JuF_8CyL46",
        "outputId": "65b1dd87-88ac-4a38-ab93-83dbeea2bf3a"
      },
      "execution_count": 34,
      "outputs": [
        {
          "output_type": "stream",
          "name": "stdout",
          "text": [
            "   Min. 1st Qu.  Median    Mean 3rd Qu.    Max. \n",
            "    109   10550   21148   23205   34218  116665 \n"
          ]
        }
      ]
    },
    {
      "cell_type": "markdown",
      "source": [
        "## Developing Negative-Control Informed Baseline Method"
      ],
      "metadata": {
        "id": "Ok7FmYMi3A8q"
      }
    },
    {
      "cell_type": "code",
      "source": [
        "%%R\n",
        "# Load data\n",
        "dat <- read.csv(\"./data1.txt\", header = T, sep = '\\t')\n",
        "\n",
        "# Center and scale the 'expression' column to have mean 0 and unit variance\n",
        "dat$expression <- scale(dat$expression)\n",
        "# Merge Genes to Enhancers\n",
        "dat$gene_enhancer <- paste(dat$geneID, dat$enhancerID, sep = \",\")\n",
        "# Convert 'gene_enhancer' to a factor and then to integer indices\n",
        "dat$gene_enhancer <- as.integer(as.factor(dat$gene_enhancer))\n",
        "\n",
        "\n",
        "# Subset\n",
        "dat <- dat[dat$gene_enhancer %in% c(1:10),]\n",
        "print(nrow(dat))\n",
        "\n",
        "# Create a binary indicator for control samples (1 if enhancerID == -1, 0 otherwise)\n",
        "dat$is_control <- ifelse(dat$enhancerID == -1, 1, 0)\n",
        "\n",
        "# Prepare data list for Stan\n",
        "stan_data <- list(\n",
        "    N = nrow(dat),\n",
        "    K = length(unique(dat$gene_enhancer)),\n",
        "    expression = as.vector(dat$expression),\n",
        "    gene_enhancer = dat$gene_enhancer,\n",
        "    is_control = dat$is_control\n",
        ")"
      ],
      "metadata": {
        "colab": {
          "base_uri": "https://localhost:8080/"
        },
        "id": "GImAmicHR4z5",
        "outputId": "cd054e6a-db0f-4aa6-da34-2230d3aa47d7"
      },
      "execution_count": 50,
      "outputs": [
        {
          "output_type": "stream",
          "name": "stdout",
          "text": [
            "[1] 1260\n"
          ]
        }
      ]
    },
    {
      "cell_type": "code",
      "source": [
        "%%R\n",
        "stan_code <- \"\n",
        "data {\n",
        "    int<lower=0> N;                       // Total number of observations\n",
        "    int<lower=1> K;                       // Number of unique gene_enhancer combinations\n",
        "    vector[N] expression;                  // Normalized expression data\n",
        "    int<lower=1, upper=K> gene_enhancer[N]; // Index for gene_enhancer\n",
        "    int<lower=0, upper=1> is_control[N];   // Indicator for control samples\n",
        "}\n",
        "\n",
        "parameters {\n",
        "    real mu_control;\n",
        "    real mu_noncontrol;\n",
        "    vector<lower=0, upper=1>[K] beta;\n",
        "    real<lower=0> sigma; // Shared standard deviation for expression\n",
        "}\n",
        "model {\n",
        "    // Priors\n",
        "    mu_control ~ normal(0, 1);\n",
        "    mu_noncontrol ~ normal(0, 1);\n",
        "    beta ~ beta(2, 2);\n",
        "    sigma ~ cauchy(0, 2); // Prior for standard deviation\n",
        "\n",
        "    // Likelihood\n",
        "    for (i in 1:N) {\n",
        "        if (is_control[i] == 1) {\n",
        "            expression[i] ~ normal(mu_control, sigma);\n",
        "        } else {\n",
        "            expression[i] ~ normal(mu_noncontrol*beta[gene_enhancer[i]], sigma);\n",
        "        }\n",
        "    }\n",
        "}\n",
        "\"\n",
        "\n",
        "# Compile and fit the model\n",
        "fit <- stan(\n",
        "  model_code = stan_code,\n",
        "  data = stan_data,\n",
        "  iter = 2000,\n",
        "  chains = 1,\n",
        "  diagnostic_file = \"diagnostics.csv\"\n",
        ")"
      ],
      "metadata": {
        "colab": {
          "base_uri": "https://localhost:8080/"
        },
        "id": "OQb52XbS3GZ0",
        "outputId": "8f0fc4eb-c38c-4344-c1d7-a42916ea488a"
      },
      "execution_count": 51,
      "outputs": [
        {
          "output_type": "stream",
          "name": "stdout",
          "text": [
            "\n",
            "SAMPLING FOR MODEL 'anon_model' NOW (CHAIN 1).\n",
            "Chain 1: \n",
            "Chain 1: Gradient evaluation took 0.001522 seconds\n",
            "Chain 1: 1000 transitions using 10 leapfrog steps per transition would take 15.22 seconds.\n",
            "Chain 1: Adjust your expectations accordingly!\n",
            "Chain 1: \n",
            "Chain 1: \n",
            "Chain 1: Iteration:    1 / 2000 [  0%]  (Warmup)\n",
            "Chain 1: Iteration:  200 / 2000 [ 10%]  (Warmup)\n",
            "Chain 1: Iteration:  400 / 2000 [ 20%]  (Warmup)\n",
            "Chain 1: Iteration:  600 / 2000 [ 30%]  (Warmup)\n",
            "Chain 1: Iteration:  800 / 2000 [ 40%]  (Warmup)\n",
            "Chain 1: Iteration: 1000 / 2000 [ 50%]  (Warmup)\n",
            "Chain 1: Iteration: 1001 / 2000 [ 50%]  (Sampling)\n",
            "Chain 1: Iteration: 1200 / 2000 [ 60%]  (Sampling)\n",
            "Chain 1: Iteration: 1400 / 2000 [ 70%]  (Sampling)\n",
            "Chain 1: Iteration: 1600 / 2000 [ 80%]  (Sampling)\n",
            "Chain 1: Iteration: 1800 / 2000 [ 90%]  (Sampling)\n",
            "Chain 1: Iteration: 2000 / 2000 [100%]  (Sampling)\n",
            "Chain 1: \n",
            "Chain 1:  Elapsed Time: 7.62 seconds (Warm-up)\n",
            "Chain 1:                3.482 seconds (Sampling)\n",
            "Chain 1:                11.102 seconds (Total)\n",
            "Chain 1: \n"
          ]
        }
      ]
    },
    {
      "cell_type": "code",
      "source": [
        "%%R\n",
        "# Print summary of the results\n",
        "print(fit, pars = c(\"beta\"))"
      ],
      "metadata": {
        "colab": {
          "base_uri": "https://localhost:8080/"
        },
        "id": "eGIjI-BDUKJe",
        "outputId": "f0081e81-2bb6-46aa-ff17-85b411c2cdf0"
      },
      "execution_count": 52,
      "outputs": [
        {
          "output_type": "stream",
          "name": "stdout",
          "text": [
            "Inference for Stan model: anon_model.\n",
            "1 chains, each with iter=2000; warmup=1000; thin=1; \n",
            "post-warmup draws per chain=1000, total post-warmup draws=1000.\n",
            "\n",
            "         mean se_mean   sd 2.5%  25%  50%  75% 97.5% n_eff Rhat\n",
            "beta[1]  0.51    0.01 0.22 0.10 0.34 0.52 0.70  0.90  1537    1\n",
            "beta[2]  0.31    0.00 0.06 0.20 0.27 0.30 0.34  0.44   648    1\n",
            "beta[3]  0.29    0.00 0.05 0.19 0.26 0.29 0.33  0.41   708    1\n",
            "beta[4]  0.60    0.00 0.08 0.44 0.55 0.60 0.65  0.75   481    1\n",
            "beta[5]  0.36    0.00 0.06 0.24 0.32 0.36 0.40  0.49   652    1\n",
            "beta[6]  0.87    0.00 0.08 0.69 0.82 0.88 0.93  0.98   403    1\n",
            "beta[7]  0.52    0.01 0.22 0.11 0.35 0.52 0.68  0.89  1621    1\n",
            "beta[8]  0.01    0.00 0.01 0.00 0.00 0.01 0.01  0.02  1493    1\n",
            "beta[9]  0.01    0.00 0.01 0.00 0.00 0.01 0.01  0.02  1476    1\n",
            "beta[10] 0.01    0.00 0.01 0.00 0.01 0.01 0.02  0.03  1781    1\n",
            "\n",
            "Samples were drawn using NUTS(diag_e) at Fri Nov 15 02:14:14 2024.\n",
            "For each parameter, n_eff is a crude measure of effective sample size,\n",
            "and Rhat is the potential scale reduction factor on split chains (at \n",
            "convergence, Rhat=1).\n"
          ]
        }
      ]
    },
    {
      "cell_type": "code",
      "source": [
        "!head -n 10 true-betas1.txt"
      ],
      "metadata": {
        "colab": {
          "base_uri": "https://localhost:8080/"
        },
        "id": "EQwETDJZUPAE",
        "outputId": "00e8e894-6b1a-4242-fe9c-04294a288954"
      },
      "execution_count": 53,
      "outputs": [
        {
          "output_type": "stream",
          "name": "stdout",
          "text": [
            "geneID\tenhancerID\tbeta\n",
            "1\t1\t0.88\n",
            "1\t2\t0.59\n",
            "1\t3\t0.39\n",
            "1\t4\t0.7\n",
            "1\t5\t0.32\n",
            "2\t6\t1\n",
            "2\t7\t0.38\n",
            "2\t8\t1\n",
            "2\t9\t0.77\n"
          ]
        }
      ]
    },
    {
      "cell_type": "code",
      "source": [
        "%%R\n",
        "# Extract the beta samples\n",
        "beta_samples <- extract(fit, pars = \"beta\")$beta\n",
        "\n",
        "# Summary statistics for beta coefficients\n",
        "beta_summary <- summary(fit, pars = \"beta\")$summary\n",
        "print(beta_summary)"
      ],
      "metadata": {
        "colab": {
          "base_uri": "https://localhost:8080/"
        },
        "id": "rie0BgTVSxYR",
        "outputId": "3103a1b3-2e06-4814-cc83-913bf087fda7"
      },
      "execution_count": 54,
      "outputs": [
        {
          "output_type": "stream",
          "name": "stdout",
          "text": [
            "                mean      se_mean          sd         2.5%         25%\n",
            "beta[1]  0.512744944 0.0056248432 0.220524326 0.0959242407 0.337750115\n",
            "beta[2]  0.308764927 0.0023222114 0.059125352 0.2010245539 0.266212432\n",
            "beta[3]  0.292365434 0.0020517766 0.054611255 0.1901794658 0.255553349\n",
            "beta[4]  0.597213061 0.0036038597 0.079072596 0.4430396249 0.546054066\n",
            "beta[5]  0.361834121 0.0024626088 0.062882349 0.2432350801 0.316632343\n",
            "beta[6]  0.869202284 0.0039796937 0.079873592 0.6876498337 0.821218479\n",
            "beta[7]  0.516053548 0.0054036925 0.217530322 0.1091162188 0.352254324\n",
            "beta[8]  0.007109176 0.0001354653 0.005234564 0.0009288877 0.003351661\n",
            "beta[9]  0.007486208 0.0001377528 0.005292122 0.0008009336 0.003604359\n",
            "beta[10] 0.011161601 0.0001850719 0.007809639 0.0013127171 0.005456247\n",
            "                 50%         75%      97.5%     n_eff      Rhat\n",
            "beta[1]  0.515997817 0.695520109 0.89581009 1537.0648 0.9998656\n",
            "beta[2]  0.304704759 0.343829356 0.43837871  648.2522 0.9989996\n",
            "beta[3]  0.289649315 0.326486630 0.40691915  708.4418 1.0015973\n",
            "beta[4]  0.597774172 0.650192148 0.74557564  481.4113 1.0013669\n",
            "beta[5]  0.360979455 0.401538189 0.48994854  652.0286 0.9996601\n",
            "beta[6]  0.882737176 0.930569380 0.98210682  402.8164 0.9990099\n",
            "beta[7]  0.524947506 0.680272269 0.89310909 1620.5348 1.0019094\n",
            "beta[8]  0.005773629 0.009444954 0.02068147 1493.1548 0.9992378\n",
            "beta[9]  0.006184369 0.010454015 0.02095148 1475.9062 0.9990254\n",
            "beta[10] 0.009393238 0.015023067 0.03163966 1780.6593 1.0006307\n"
          ]
        }
      ]
    },
    {
      "cell_type": "code",
      "source": [
        "%%R\n",
        "# Convert to a data frame for easier plotting\n",
        "beta_df <- as.data.frame(beta_summary)\n",
        "beta_df$gene_enhancer <- 1:nrow(beta_df)\n",
        "\n",
        "# Plot with ggplot2\n",
        "library(ggplot2)\n",
        "ggplot(beta_df, aes(x = gene_enhancer, y = mean)) +\n",
        "    geom_point() +\n",
        "    geom_errorbar(aes(ymin = `2.5%`, ymax = `97.5%`), width = 0.2) +\n",
        "    labs(title = \"Estimated Beta Coefficients for Gene Enhancers\",\n",
        "         x = \"Gene Enhancer\", y = \"Beta Coefficient\") +\n",
        "    theme_minimal()"
      ],
      "metadata": {
        "colab": {
          "base_uri": "https://localhost:8080/",
          "height": 497
        },
        "id": "kE2_iNn4i5_Y",
        "outputId": "59756907-2c66-40d0-aad7-36beea4108ca"
      },
      "execution_count": 55,
      "outputs": [
        {
          "output_type": "display_data",
          "data": {
            "image/png": "[encoded data removed]"
          },
          "metadata": {}
        }
      ]
    },
    {
      "cell_type": "code",
      "source": [
        "%%R\n",
        "# Extract posterior samples\n",
        "mu_control_samples <- extract(fit, pars = \"mu_control\")$mu_control\n",
        "mu_noncontrol_samples <- extract(fit, pars = \"mu_noncontrol\")$mu_noncontrol\n",
        "beta_samples <- extract(fit, pars = \"beta\")$beta\n",
        "\n",
        "\n",
        "# Mean estimates for each parameter\n",
        "mu_control_mean <- mean(mu_control_samples)\n",
        "mu_noncontrol_mean <- mean(mu_noncontrol_samples)\n",
        "beta_mean <- colMeans(beta_samples)\n",
        "\n",
        "# Predicted values\n",
        "dat$predicted_expression <- ifelse(dat$is_control == 1,\n",
        "                                   mu_control_mean,\n",
        "                                   mu_noncontrol_mean*beta_mean[dat$gene_enhancer])"
      ],
      "metadata": {
        "id": "iy1-AtZSjZzN"
      },
      "execution_count": 56,
      "outputs": []
    },
    {
      "cell_type": "code",
      "source": [
        "%%R\n",
        "head(dat)"
      ],
      "metadata": {
        "colab": {
          "base_uri": "https://localhost:8080/"
        },
        "id": "MC7NlpT8jz9Y",
        "outputId": "29744d94-34e6-4a61-bcb2-f589593526a4"
      },
      "execution_count": 57,
      "outputs": [
        {
          "output_type": "stream",
          "name": "stdout",
          "text": [
            "  geneID enhancerID guideID cellID expression gene_enhancer is_control\n",
            "1      1         -1      -1      1  0.1677894             1          1\n",
            "2      1         -1      -1      2 -0.2502963             1          1\n",
            "3      1         -1      -1      3 -0.3803455             1          1\n",
            "4      1         -1      -1      4  0.4139844             1          1\n",
            "5      1         -1      -1      5 -0.3588346             1          1\n",
            "6      1         -1      -1      6 -0.2493126             1          1\n",
            "  predicted_expression\n",
            "1            0.1835848\n",
            "2            0.1835848\n",
            "3            0.1835848\n",
            "4            0.1835848\n",
            "5            0.1835848\n",
            "6            0.1835848\n"
          ]
        }
      ]
    },
    {
      "cell_type": "code",
      "source": [
        "%%R\n",
        "library(ggplot2)\n",
        "ggplot(dat, aes(x = expression, y = predicted_expression)) +\n",
        "    geom_point() +\n",
        "    geom_abline(slope = 1, intercept = 0, linetype = \"dashed\", color = \"red\") +\n",
        "    labs(title = \"True vs. Predicted Expression\",\n",
        "         x = \"True Expression\",\n",
        "         y = \"Predicted Expression\") +\n",
        "    theme_minimal()"
      ],
      "metadata": {
        "colab": {
          "base_uri": "https://localhost:8080/",
          "height": 497
        },
        "id": "8bLuWwHcjpNZ",
        "outputId": "f1dc696a-1e8d-484b-a40a-82466ebbd0e5"
      },
      "execution_count": 58,
      "outputs": [
        {
          "output_type": "display_data",
          "data": {
            "image/png": "[encoded data removed]"
          },
          "metadata": {}
        }
      ]
    },
    {
      "cell_type": "code",
      "source": [
        "%%R\n",
        "# Mean Squared Error\n",
        "mse <- mean((dat$expression - dat$predicted_expression)^2)\n",
        "\n",
        "# Mean Absolute Error\n",
        "mae <- mean(abs(dat$expression - dat$predicted_expression))\n",
        "\n",
        "cat(\"Mean Squared Error (MSE):\", mse, \"\\n\")\n",
        "cat(\"Mean Absolute Error (MAE):\", mae, \"\\n\")"
      ],
      "metadata": {
        "colab": {
          "base_uri": "https://localhost:8080/"
        },
        "id": "UuPO-Lkijw_x",
        "outputId": "5d848501-e19a-41fc-9408-abb8238a6d8e"
      },
      "execution_count": 59,
      "outputs": [
        {
          "output_type": "stream",
          "name": "stdout",
          "text": [
            "Mean Squared Error (MSE): 0.2062131 \n",
            "Mean Absolute Error (MAE): 0.3658161 \n"
          ]
        }
      ]
    },
    {
      "cell_type": "markdown",
      "source": [
        "## NEXT MODEL"
      ],
      "metadata": {
        "id": "KUSaP04HiFZv"
      }
    },
    {
      "cell_type": "code",
      "source": [],
      "metadata": {
        "id": "vYwBePoOiHCW"
      },
      "execution_count": 62,
      "outputs": []
    },
    {
      "cell_type": "markdown",
      "source": [
        "---"
      ],
      "metadata": {
        "id": "ZmQl_G-Knyor"
      }
    },
    {
      "cell_type": "markdown",
      "source": [
        "#### Inv_gamma prior"
      ],
      "metadata": {
        "id": "tPdViTEGWNuj"
      }
    },
    {
      "cell_type": "code",
      "source": [
        "%%R\n",
        "data <- read.csv(\"./data1.txt\", header = T, sep = '\\t')\n",
        "\n",
        "results <- read.csv(\"./true-betas1.txt\", header = T, sep = '\\t')\n",
        "\n",
        "data$gene_enhancer <- paste(data$geneID, data$enhancerID, sep = \",\")\n",
        "data$geneID <- NULL\n",
        "data$enhancerID <- NULL\n",
        "\n",
        "data$gene_enhancer <- as.integer(factor(data$gene_enhancer))\n",
        "\n",
        "## Subset\n",
        "data <- data[data$gene_enhancer %in% c(1:20),]\n",
        "print(nrow(data))\n",
        "\n",
        "# Scale\n",
        "# data$expression <- scale(data$expression)\n",
        "\n",
        "head(data)\n",
        "\n",
        "# Prepare the data list for Stan\n",
        "stan_data <- list(\n",
        "  N = nrow(data),\n",
        "  K = length(unique(data$gene_enhancer)),\n",
        "  gene_enhancer = data$gene_enhancer,\n",
        "  expression = data$expression\n",
        ")"
      ],
      "metadata": {
        "id": "gBsBuo1ASQxW"
      },
      "execution_count": null,
      "outputs": []
    },
    {
      "cell_type": "code",
      "source": [
        "%%R\n",
        "# Define the Stan model with inverse gamma prior as a character string\n",
        "stan_code <- \"\n",
        "data {\n",
        "  int<lower=1> N; // Number of observations\n",
        "  int<lower=1> K; // Number of unique gene_enhancer values\n",
        "  int<lower=1, upper=K> gene_enhancer[N]; // Gene enhancer group for each observation\n",
        "  real expression[N]; // Expression values\n",
        "}\n",
        "\n",
        "parameters {\n",
        "  real mu; // Overall mean expression\n",
        "  real<lower=0> sigma_sq; // Variance parameter for inverse gamma\n",
        "  real<lower=0, upper=1> beta[K]; // Beta coefficients for each gene enhancer\n",
        "}\n",
        "\n",
        "transformed parameters {\n",
        "  real<lower=0> sigma;\n",
        "  sigma = sqrt(sigma_sq); // Standard deviation from variance\n",
        "}\n",
        "\n",
        "model {\n",
        "  // Prior distributions-- the model is sensitive to adjusting these\n",
        "  mu ~ normal(0, 10);\n",
        "  sigma_sq ~ inv_gamma(1, 1); // Inverse gamma prior on variance (sigma^2)\n",
        "  beta ~ normal(0.5, 5); // Centered around 0\n",
        "\n",
        "  // Likelihood\n",
        "  for (n in 1:N) {\n",
        "    expression[n] ~ normal(mu * beta[gene_enhancer[n]], sigma);\n",
        "  }\n",
        "}\n",
        "\"\n",
        "\n",
        "# Compile and fit the model\n",
        "fit <- stan(\n",
        "  model_code = stan_code,\n",
        "  data = stan_data,\n",
        "  iter = 2000,\n",
        "  chains = 1,\n",
        "  diagnostic_file = \"diagnostics.csv\"\n",
        ")\n",
        "\n",
        "# Print summary of the results\n",
        "print(fit, pars = c(\"mu\", \"beta\", \"sigma\"))"
      ],
      "metadata": {
        "colab": {
          "base_uri": "https://localhost:8080/"
        },
        "id": "6Zc5DNqDVa31",
        "outputId": "39b331d2-6c82-4d14-a378-56d383a20ff2"
      },
      "execution_count": 16,
      "outputs": [
        {
          "output_type": "stream",
          "name": "stdout",
          "text": [
            "\n",
            "SAMPLING FOR MODEL 'anon_model' NOW (CHAIN 1).\n",
            "Chain 1: \n",
            "Chain 1: Gradient evaluation took 0.000548 seconds\n",
            "Chain 1: 1000 transitions using 10 leapfrog steps per transition would take 5.48 seconds.\n",
            "Chain 1: Adjust your expectations accordingly!\n",
            "Chain 1: \n",
            "Chain 1: \n",
            "Chain 1: Iteration:    1 / 2000 [  0%]  (Warmup)\n",
            "Chain 1: Iteration:  200 / 2000 [ 10%]  (Warmup)\n",
            "Chain 1: Iteration:  400 / 2000 [ 20%]  (Warmup)\n",
            "Chain 1: Iteration:  600 / 2000 [ 30%]  (Warmup)\n",
            "Chain 1: Iteration:  800 / 2000 [ 40%]  (Warmup)\n",
            "Chain 1: Iteration: 1000 / 2000 [ 50%]  (Warmup)\n",
            "Chain 1: Iteration: 1001 / 2000 [ 50%]  (Sampling)\n",
            "Chain 1: Iteration: 1200 / 2000 [ 60%]  (Sampling)\n",
            "Chain 1: Iteration: 1400 / 2000 [ 70%]  (Sampling)\n",
            "Chain 1: Iteration: 1600 / 2000 [ 80%]  (Sampling)\n",
            "Chain 1: Iteration: 1800 / 2000 [ 90%]  (Sampling)\n",
            "Chain 1: Iteration: 2000 / 2000 [100%]  (Sampling)\n",
            "Chain 1: \n",
            "Chain 1:  Elapsed Time: 16.296 seconds (Warm-up)\n",
            "Chain 1:                4.548 seconds (Sampling)\n",
            "Chain 1:                20.844 seconds (Total)\n",
            "Chain 1: \n",
            "Inference for Stan model: anon_model.\n",
            "1 chains, each with iter=2000; warmup=1000; thin=1; \n",
            "post-warmup draws per chain=1000, total post-warmup draws=1000.\n",
            "\n",
            "             mean se_mean     sd     2.5%      25%      50%      75%    97.5%\n",
            "mu           5.10    0.27  10.20   -14.76    -2.01     5.24    11.98    25.03\n",
            "beta[1]      0.51    0.01   0.28     0.04     0.26     0.52     0.74     0.97\n",
            "beta[2]      0.50    0.01   0.29     0.04     0.25     0.50     0.74     0.97\n",
            "beta[3]      0.51    0.01   0.28     0.03     0.28     0.51     0.74     0.98\n",
            "beta[4]      0.50    0.01   0.30     0.02     0.23     0.50     0.78     0.97\n",
            "beta[5]      0.52    0.01   0.29     0.03     0.27     0.52     0.76     0.98\n",
            "beta[6]      0.50    0.01   0.30     0.03     0.23     0.50     0.76     0.98\n",
            "beta[7]      0.51    0.01   0.29     0.03     0.24     0.50     0.77     0.98\n",
            "beta[8]      0.51    0.01   0.29     0.03     0.26     0.51     0.77     0.98\n",
            "beta[9]      0.52    0.01   0.29     0.03     0.27     0.54     0.77     0.98\n",
            "beta[10]     0.51    0.01   0.28     0.03     0.27     0.52     0.77     0.98\n",
            "beta[11]     0.51    0.01   0.28     0.03     0.28     0.51     0.75     0.97\n",
            "beta[12]     0.50    0.01   0.29     0.03     0.24     0.50     0.75     0.97\n",
            "beta[13]     0.49    0.01   0.28     0.02     0.25     0.50     0.72     0.97\n",
            "beta[14]     0.52    0.01   0.29     0.02     0.26     0.53     0.77     0.98\n",
            "beta[15]     0.50    0.01   0.28     0.03     0.26     0.50     0.74     0.96\n",
            "beta[16]     0.50    0.01   0.30     0.02     0.22     0.50     0.76     0.98\n",
            "beta[17]     0.50    0.01   0.29     0.03     0.24     0.50     0.76     0.97\n",
            "beta[18]     0.50    0.01   0.29     0.03     0.24     0.50     0.75     0.97\n",
            "beta[19]     0.51    0.01   0.29     0.03     0.27     0.51     0.76     0.97\n",
            "beta[20]     0.49    0.01   0.28     0.03     0.25     0.48     0.73     0.96\n",
            "sigma    22604.21    7.46 301.53 22028.62 22388.58 22598.53 22803.72 23189.18\n",
            "         n_eff Rhat\n",
            "mu        1443    1\n",
            "beta[1]   1375    1\n",
            "beta[2]   1307    1\n",
            "beta[3]   1780    1\n",
            "beta[4]   1420    1\n",
            "beta[5]   1018    1\n",
            "beta[6]   1810    1\n",
            "beta[7]   1395    1\n",
            "beta[8]   1922    1\n",
            "beta[9]   2573    1\n",
            "beta[10]  2242    1\n",
            "beta[11]  1498    1\n",
            "beta[12]  1416    1\n",
            "beta[13]  3000    1\n",
            "beta[14]  2277    1\n",
            "beta[15]  1966    1\n",
            "beta[16]  1256    1\n",
            "beta[17]  2158    1\n",
            "beta[18]  1764    1\n",
            "beta[19]  2660    1\n",
            "beta[20]  1756    1\n",
            "sigma     1635    1\n",
            "\n",
            "Samples were drawn using NUTS(diag_e) at Thu Nov 14 17:59:03 2024.\n",
            "For each parameter, n_eff is a crude measure of effective sample size,\n",
            "and Rhat is the potential scale reduction factor on split chains (at \n",
            "convergence, Rhat=1).\n"
          ]
        }
      ]
    },
    {
      "cell_type": "code",
      "source": [
        "%%R\n",
        "# test <- extract(fit)$beta"
      ],
      "metadata": {
        "colab": {
          "base_uri": "https://localhost:8080/"
        },
        "id": "T6B_wqj3iI0G",
        "outputId": "a02c4a42-d5c1-41ff-ba86-89024d7fa2cc"
      },
      "execution_count": null,
      "outputs": [
        {
          "output_type": "stream",
          "name": "stdout",
          "text": [
            "NULL\n"
          ]
        }
      ]
    },
    {
      "cell_type": "code",
      "source": [
        "!head -n 30 diagnostics.csv"
      ],
      "metadata": {
        "colab": {
          "base_uri": "https://localhost:8080/"
        },
        "id": "VN-jKD1o1c8B",
        "outputId": "b62f78cd-0a18-4f92-a05f-4f28f9a4210b"
      },
      "execution_count": null,
      "outputs": [
        {
          "output_type": "stream",
          "name": "stdout",
          "text": [
            "# Sample generated by Stan\n",
            "# stan_version_major=2\n",
            "# stan_version_minor=32\n",
            "# stan_version_patch=2\n",
            "# init=random\n",
            "# enable_random_init=1\n",
            "# seed=218288945\n",
            "# chain_id=1\n",
            "# iter=2000\n",
            "# warmup=1000\n",
            "# save_warmup=1\n",
            "# thin=1\n",
            "# refresh=200\n",
            "# stepsize=1\n",
            "# stepsize_jitter=0\n",
            "# adapt_engaged=1\n",
            "# adapt_gamma=0.05\n",
            "# adapt_delta=0.8\n",
            "# adapt_kappa=0.75\n",
            "# adapt_t0=10\n",
            "# max_treedepth=10\n",
            "# sampler_t=NUTS(diag_e)\n",
            "# diagnostic_file=diagnostics.csv\n",
            "# append_samples=0\n",
            "#\n",
            "lp__,accept_stat__,stepsize__,treedepth__,n_leapfrog__,divergent__,energy__,mu,sigma_sq,beta.1,beta.2,beta.3,beta.4,beta.5,beta.6,beta.7,beta.8,beta.9,beta.10,beta.11,beta.12,beta.13,beta.14,beta.15,beta.16,beta.17,beta.18,beta.19,beta.20,p_mu,p_sigma_sq,p_beta.1,p_beta.2,p_beta.3,p_beta.4,p_beta.5,p_beta.6,p_beta.7,p_beta.8,p_beta.9,p_beta.10,p_beta.11,p_beta.12,p_beta.13,p_beta.14,p_beta.15,p_beta.16,p_beta.17,p_beta.18,p_beta.19,p_beta.20,g_mu,g_sigma_sq,g_beta.1,g_beta.2,g_beta.3,g_beta.4,g_beta.5,g_beta.6,g_beta.7,g_beta.8,g_beta.9,g_beta.10,g_beta.11,g_beta.12,g_beta.13,g_beta.14,g_beta.15,g_beta.16,g_beta.17,g_beta.18,g_beta.19,g_beta.20\n",
            "-5.04768e+10,1,3.8147e-06,1,1,0,1.09494e+11,0.241325,2.54697,-1.64405,-1.79169,-0.622235,1.45834,0.243625,1.83369,-1.0037,-0.769988,-1.06247,0.145731,1.71142,-1.37361,1.9857,-1.25601,-0.978715,-1.94079,1.24865,1.35341,-0.914188,-0.689967,45.2297,343562,0.08453,-0.635145,-0.220456,2.77515,-0.282709,1.0804,1.10921,-1.49062,-0.309109,0.864552,2.33942,-1.31626,0.744036,0.716155,-0.81852,-0.425448,-0.0345048,0.223738,0.0331702,0.307505,-6.65133e+06,-5.04768e+10,-2423.02,-9264.6,-30124.5,-196424,-68560.1,-222165,-6225.56,-40401.7,-29490.1,-91793.7,-313814,-14132.8,-94903.9,-17963.3,-24530.3,-9525.3,-177264,-225967,-4129.33,-25876.1\n",
            "-5.04768e+10,0,14.3855,0,1,1,5.04768e+10,0.241325,2.54697,-1.64405,-1.79169,-0.622235,1.45834,0.243625,1.83369,-1.0037,-0.769988,-1.06247,0.145731,1.71142,-1.37361,1.9857,-1.25601,-0.978715,-1.94079,1.24865,1.35341,-0.914188,-0.689967,0.0112407,-0.315426,1.59763,-1.72494,-0.645119,0.723743,1.06258,0.692232,-0.342482,1.02373,-1.13685,-0.402684,-3.25961,-1.53701,-0.883348,0.421911,0.0870666,0.586033,0.590454,0.887873,0.554225,-0.539698,-6.65133e+06,-5.04768e+10,-2423.02,-9264.6,-30124.5,-196424,-68560.1,-222165,-6225.56,-40401.7,-29490.1,-91793.7,-313814,-14132.8,-94903.9,-17963.3,-24530.3,-9525.3,-177264,-225967,-4129.33,-25876.1\n",
            "-5.04768e+10,0,2.43117,0,1,1,5.04768e+10,0.241325,2.54697,-1.64405,-1.79169,-0.622235,1.45834,0.243625,1.83369,-1.0037,-0.769988,-1.06247,0.145731,1.71142,-1.37361,1.9857,-1.25601,-0.978715,-1.94079,1.24865,1.35341,-0.914188,-0.689967,-0.993674,-0.859814,0.435842,-0.91649,1.39679,-0.870693,0.748359,0.634548,0.783533,0.804429,0.803285,1.04038,-0.63384,-0.0588567,0.582778,-1.07009,-0.0112512,-1.09609,-1.20128,-1.47433,0.863928,-1.50657,-6.65133e+06,-5.04768e+10,-2423.02,-9264.6,-30124.5,-196424,-68560.1,-222165,-6225.56,-40401.7,-29490.1,-91793.7,-313814,-14132.8,-94903.9,-17963.3,-24530.3,-9525.3,-177264,-225967,-4129.33,-25876.1\n",
            "-5.04768e+10,0,0.239791,0,1,1,5.04768e+10,0.241325,2.54697,-1.64405,-1.79169,-0.622235,1.45834,0.243625,1.83369,-1.0037,-0.769988,-1.06247,0.145731,1.71142,-1.37361,1.9857,-1.25601,-0.978715,-1.94079,1.24865,1.35341,-0.914188,-0.689967,0.207589,-2.23547,-0.0411184,1.2205,-0.316632,-0.943674,1.58659,0.389853,1.2875,1.08233,1.56566,0.515932,0.368604,0.0863037,0.437987,-0.316791,-0.99387,1.80926,0.430218,-0.0551003,1.51413,-0.409758,-6.65133e+06,-5.04768e+10,-2423.02,-9264.6,-30124.5,-196424,-68560.1,-222165,-6225.56,-40401.7,-29490.1,-91793.7,-313814,-14132.8,-94903.9,-17963.3,-24530.3,-9525.3,-177264,-225967,-4129.33,-25876.1\n"
          ]
        }
      ]
    },
    {
      "cell_type": "code",
      "source": [
        "%%R\n",
        "traceplot(fit)"
      ],
      "metadata": {
        "colab": {
          "base_uri": "https://localhost:8080/",
          "height": 532
        },
        "id": "Nbsxe39LsZgE",
        "outputId": "df3eac39-dd9d-4202-d1a7-2a19c65a468d"
      },
      "execution_count": null,
      "outputs": [
        {
          "output_type": "stream",
          "name": "stderr",
          "text": [
            "WARNING:rpy2.rinterface_lib.callbacks:R[write to console]: 'pars' not specified. Showing first 10 parameters by default.\n",
            "\n"
          ]
        },
        {
          "output_type": "display_data",
          "data": {
            "image/png": "[encoded data removed]"
          },
          "metadata": {}
        }
      ]
    },
    {
      "cell_type": "code",
      "source": [
        "%%R\n",
        "summary(fit)$summary[, \"Rhat\"]"
      ],
      "metadata": {
        "colab": {
          "base_uri": "https://localhost:8080/"
        },
        "id": "4NmqQPGaqWZv",
        "outputId": "776028fc-3446-4cf0-f72c-d746d7f8a050"
      },
      "execution_count": null,
      "outputs": [
        {
          "output_type": "stream",
          "name": "stdout",
          "text": [
            "       mu  sigma_sq   beta[1]   beta[2]   beta[3]   beta[4]   beta[5]   beta[6] \n",
            "0.9998614 0.9990223 1.0003778 1.0021742 0.9991140 0.9991096 0.9990000 0.9990164 \n",
            "  beta[7]   beta[8]   beta[9]  beta[10]  beta[11]  beta[12]  beta[13]  beta[14] \n",
            "0.9990170 0.9994098 0.9991586 1.0043132 0.9990714 0.9992209 1.0015054 0.9994516 \n",
            " beta[15]  beta[16]  beta[17]  beta[18]  beta[19]  beta[20]     sigma      lp__ \n",
            "0.9995886 0.9991188 0.9999057 1.0015170 0.9995580 1.0005872 0.9990264 1.0060299 \n"
          ]
        }
      ]
    },
    {
      "cell_type": "markdown",
      "source": [
        "# NEXT We want to aggregate information accross the guides, $Z$(?) targeting the enhancer.\n",
        "\n",
        "* Each cell receives either 0 or 1 guide; a guide ID of -1 denotes no guide inthe cell (control)\n",
        "\n",
        "* Some guides are functional, and _some are non-functional._ Which guides are functional is _not_ known a priori.\n",
        "\n",
        "* Each enhancer is targeted by 5 guides, but each cell only gets one guide (or no guide for the control cells).\n",
        "\n",
        "* The goal is to **estimate the effect size**, $\\beta$, of each enhancer on each gene. This estimate should **aggregate information accross the guides** targeting the enhancer.\n",
        "\n",
        "* A $\\beta$ of 1 indicates _no effect_; a $\\beta < 1$ means that perturbing the enhancer reduces gene expression by a proporrtion given by $\\beta$. Thus, $Y = \\beta X$, where $X$ is the control expression level, $\\beta$ is the effect size, and $T$ is the treatment expression level when the hancer is perturbed by a _functional_ guide. Remember that nonfunctional guides do _not_ perturb the expression; unfortunately, which guides are functional is not known a priori.\n",
        "\n",
        "Our goal is to use STAN or JAGS to implement a Bayesian hierarchical model to estimate the $\\beta$ values (one for each enhancer-gene pair), aggregating information across the guides targeting an enhancer while accounting for the unknown functional status of individual guides. Run your model on the data and use the true-betas file to evaluate your predictions.\n",
        "\n",
        "* **This estimate should aggregate information accross the guides targeting the enhancer.**"
      ],
      "metadata": {
        "id": "SNXiRISEAuYs"
      }
    },
    {
      "cell_type": "code",
      "source": [
        "%%R\n",
        "# Load the data\n",
        "data <- read.table(\"./data1.txt\", sep = '\\t', header = TRUE)\n",
        "\n",
        "data$gene_enhancer <- paste(data$geneID, data$enhancerID, sep = \",\")\n",
        "\n",
        "# Encode gene_enhancer and guideID as integer indices\n",
        "data$gene_enhancer <- as.integer(as.factor(data$gene_enhancer))\n",
        "data$guideID <- as.integer(as.factor(data$guideID))\n",
        "\n",
        "# data <- data[data$gene_enhancer %in% c(1:20),]\n",
        "print(nrow(data))\n",
        "\n",
        "# Prepare data list for Stan\n",
        "stan_data <- list(\n",
        "  N = nrow(data),                       # Number of observations\n",
        "  K = length(unique(data$gene_enhancer)),# Number of unique gene_enhancer values\n",
        "  G = length(unique(data$guideID)),      # Number of unique guideIDs\n",
        "  gene_enhancer = data$gene_enhancer,    # Gene enhancer group for each observation\n",
        "  guideID = data$guideID,                # Guide ID for each observation\n",
        "  expression = data$expression           # Expression values\n",
        ")"
      ],
      "metadata": {
        "id": "mzCgt2h2eFML",
        "colab": {
          "base_uri": "https://localhost:8080/"
        },
        "outputId": "cf78e1cb-d239-4fe0-8e25-7001dab8062c"
      },
      "execution_count": null,
      "outputs": [
        {
          "output_type": "stream",
          "name": "stdout",
          "text": [
            "[1] 780000\n"
          ]
        }
      ]
    },
    {
      "cell_type": "code",
      "source": [
        "%%R\n",
        "table(data$gene_enhancer[1:1000])"
      ],
      "metadata": {
        "colab": {
          "base_uri": "https://localhost:8080/"
        },
        "id": "fSEgGtjbfTie",
        "outputId": "5e597e97-f152-4dfd-a94e-fbfa1d67e31f"
      },
      "execution_count": null,
      "outputs": [
        {
          "output_type": "stream",
          "name": "stdout",
          "text": [
            "\n",
            "  1   2   3   4   5   6 673 675 676 \n",
            " 30 150 150 150 150 150  30 150  40 \n"
          ]
        }
      ]
    },
    {
      "cell_type": "code",
      "source": [
        "%%R\n",
        "head(data)"
      ],
      "metadata": {
        "colab": {
          "base_uri": "https://localhost:8080/"
        },
        "id": "JpXYTKCceqNY",
        "outputId": "8718f2eb-043e-44f9-b164-4b5c39585f80"
      },
      "execution_count": null,
      "outputs": [
        {
          "output_type": "stream",
          "name": "stdout",
          "text": [
            "  geneID enhancerID guideID cellID expression gene_enhancer\n",
            "1      1         -1       1      1      25763             1\n",
            "2      1         -1       1      2      19388             1\n",
            "3      1         -1       1      3      17405             1\n",
            "4      1         -1       1      4      29517             1\n",
            "5      1         -1       1      5      17733             1\n",
            "6      1         -1       1      6      19403             1\n"
          ]
        }
      ]
    },
    {
      "cell_type": "code",
      "source": [
        "%%R\n",
        "# Define the Stan model as a character string\n",
        "stan_code <- \"\n",
        "data {\n",
        "  int<lower=1> N; // Number of observations\n",
        "  int<lower=1> K; // Number of unique gene_enhancer values\n",
        "  int<lower=1> G; // Number of unique guideIDs\n",
        "  int<lower=1, upper=K> gene_enhancer[N]; // Gene enhancer group for each observation\n",
        "  int<lower=1, upper=G> guideID[N]; // Guide ID for each observation\n",
        "  real<lower=0> expression[N]; // Expression values\n",
        "}\n",
        "\n",
        "parameters {\n",
        "  real mu; // Overall mean expression\n",
        "  real<lower=0> sigma_sq; // Variance parameter for inverse gamma\n",
        "  real<lower=0> beta[K]; // Beta coefficients for each gene enhancer\n",
        "  real<lower=0, upper=1> theta; // Probability that a guide is functional\n",
        "}\n",
        "\n",
        "transformed parameters {\n",
        "  real<lower=0> sigma;\n",
        "  sigma = sqrt(sigma_sq); // Standard deviation from variance\n",
        "}\n",
        "\n",
        "model {\n",
        "  // Priors\n",
        "  mu ~ normal(1, 10);\n",
        "  sigma_sq ~ inv_gamma(1, 1);\n",
        "  beta ~ normal(1, 1);\n",
        "  theta ~ beta(2, 2); // Prior on probability of a guide being functional\n",
        "\n",
        "  // Likelihood\n",
        "  for (n in 1:N) {\n",
        "    target += log_mix(theta,\n",
        "                      normal_lpdf(expression[n] | mu * beta[gene_enhancer[n]], sigma),\n",
        "                      normal_lpdf(expression[n] | mu, sigma));\n",
        "  }\n",
        "}\n",
        "\"\n",
        "\n",
        "# Compile and fit the model\n",
        "fit <- stan(\n",
        "  model_code = stan_code,\n",
        "  data = stan_data,\n",
        "  iter = 2000,\n",
        "  chains = 1\n",
        ")\n",
        "\n",
        "# Print summary of the results\n",
        "print(fit, pars = c(\"mu\", \"beta\", \"sigma\", \"theta\", \"z\"))"
      ],
      "metadata": {
        "id": "zRuJ-NV4d1a7",
        "colab": {
          "base_uri": "https://localhost:8080/"
        },
        "outputId": "2ee994db-cd2c-4c30-ae66-94d35f1661fd"
      },
      "execution_count": null,
      "outputs": [
        {
          "metadata": {
            "tags": null
          },
          "name": "stdout",
          "output_type": "stream",
          "text": [
            "\n",
            "SAMPLING FOR MODEL 'anon_model' NOW (CHAIN 1).\n",
            "Chain 1: \n",
            "Chain 1: Gradient evaluation took 1.3885 seconds\n",
            "Chain 1: 1000 transitions using 10 leapfrog steps per transition would take 13885 seconds.\n",
            "Chain 1: Adjust your expectations accordingly!\n",
            "Chain 1: \n",
            "Chain 1: \n",
            "Chain 1: Iteration:    1 / 2000 [  0%]  (Warmup)\n"
          ]
        }
      ]
    },
    {
      "cell_type": "markdown",
      "source": [
        "## Update: Transitioned to DCC and SLURM"
      ],
      "metadata": {
        "id": "2ZZGeU8O6Y9f"
      }
    },
    {
      "cell_type": "markdown",
      "source": [
        "# Graphical Models for Biological Data : Final Project\n",
        "\n",
        "- Fall 2024\n",
        "- Authors: jtm98, Ned Ed Neddy"
      ],
      "metadata": {
        "id": "xc17KTU1UVH-"
      }
    },
    {
      "cell_type": "code",
      "source": [
        "!install_cmdstan"
      ],
      "metadata": {
        "colab": {
          "base_uri": "https://localhost:8080/"
        },
        "id": "HAPEE5eRUYQg",
        "outputId": "ad5fd62f-c844-4b45-cf53-db422a00297c"
      },
      "execution_count": null,
      "outputs": [
        {
          "output_type": "stream",
          "name": "stdout",
          "text": [
            "CmdStan install directory: /root/.cmdstan\n",
            "Installing CmdStan version: 2.35.0\n",
            "Downloading CmdStan version 2.35.0\n",
            "Download successful, file: /tmp/tmptwaim3j4\n",
            "Extracting distribution\n",
            "Unpacked download as cmdstan-2.35.0\n",
            "Building version cmdstan-2.35.0, may take several minutes, depending on your system.\n",
            "Installed cmdstan-2.35.0\n",
            "Test model compilation\n"
          ]
        }
      ]
    },
    {
      "cell_type": "markdown",
      "source": [
        "\n",
        "# Model 0: Naive Estimator\n",
        "\n",
        "Where $i$ is a `gene-enhancer` pair.\n",
        "\n",
        "$$ Y_i \\sim X_i * \\beta_{i} $$\n",
        "\n",
        "$$\\beta \\sim X_{experiment} / X_{control} $$\n",
        "\n",
        "\n",
        "Naively, one can estimate $\\beta$ for a gene-enhancer by dividing the average experiment expression by the average control expression.\n"
      ],
      "metadata": {
        "id": "SFCdthvVU94R"
      }
    },
    {
      "cell_type": "code",
      "source": [
        "import os\n",
        "import numpy as np\n",
        "from cmdstanpy import cmdstan_path, CmdStanModel"
      ],
      "metadata": {
        "id": "KwZi93WvUYrS"
      },
      "execution_count": null,
      "outputs": []
    },
    {
      "cell_type": "markdown",
      "source": [
        "# Model 1: Massaging Gaussian Mixture Model\n",
        "\n",
        "jtm98\n",
        "Created: 10.29.24\n",
        "\n",
        "$$ X_i \\sim r N (\\mu,\\sigma^2) + (1-r) N (\\beta*\\mu,\\sigma^2) $$\n",
        "\n",
        "- $X_i$ is cell expression\n",
        "- $r$ is a mixture proportion of label $Z_i$\n",
        "- $Z_i \\in {0,1} $ and represents whether a cell had normal (0) or decreased (1)  expression\n",
        "- $\\mu$ is the mean of individuals w/normal expression\n",
        "- $\\beta$ is the enhancer coefficient\n",
        "\n",
        "### Description:\n",
        "\n",
        "This is a mixture moel that assumes the expression data come from two normal distributions-- the control distribution $N(\\mu, \\sigma^2)$ or the enhancer distribution $N(\\beta*\\mu, \\sigma^2)$.\n"
      ],
      "metadata": {
        "id": "Xg6qlhq_VFi4"
      }
    },
    {
      "cell_type": "code",
      "source": [
        "mixture =\"\"\"\n",
        "// Assessing if beta parameter is inferable\n",
        "data {\n",
        "int<lower=1> N; // number of samples\n",
        "array[N] real X; // expression in the sample\n",
        "}\n",
        "\n",
        "parameters {\n",
        "real<lower=0,upper=1> r; // mixture proportion of samples\n",
        "real<lower=0.0> sigma; // standard deviation\n",
        "real mu; // mean of individuals w/ normal expression\n",
        "real beta; // enhancer coefficient\n",
        "}\n",
        "\n",
        "model {\n",
        "r ~ beta(2,2); // mixture proportion based on natural scale\n",
        "mu ~ normal(0,10);\n",
        "beta ~ beta(2,2); // enhancer coefificent should be [0,1]\n",
        "sigma ~ inv_gamma(1,1);\n",
        "for(i in 1:N)\n",
        "target+= log_sum_exp(log(r)+normal_lpdf(X[i]|mu,sigma),\n",
        "log(1-r)+normal_lpdf(X[i]|beta*mu,sigma));\n",
        "}\n",
        "\n",
        "generated quantities {\n",
        "array[N] real<lower=0,upper=1> PZi;\n",
        "for(i in 1:N) {\n",
        "real LP0=log(r)+normal_lpdf(X[i]|mu,sigma);\n",
        "real LP1=log(1-r)+normal_lpdf(X[i]|beta*mu,sigma);\n",
        "PZi[i]=exp(LP0-log_sum_exp(LP0,LP1));\n",
        "}\n",
        "}\n",
        "\"\"\"\n",
        "! mkdir mixture\n",
        "with open('mixture/mixture.stan', 'w') as f: f.write(mixture)\n",
        "! cat mixture/mixture.stan"
      ],
      "metadata": {
        "colab": {
          "base_uri": "https://localhost:8080/"
        },
        "id": "FuMAf0tEVCre",
        "outputId": "44e8b754-f591-4f47-aa5b-b25186050ed3"
      },
      "execution_count": null,
      "outputs": [
        {
          "output_type": "stream",
          "name": "stdout",
          "text": [
            "\n",
            "// Assessing if beta parameter is inferable\n",
            "data {\n",
            "int<lower=1> N; // number of samples\n",
            "array[N] real X; // expression in the sample\n",
            "}\n",
            "\n",
            "parameters {\n",
            "real<lower=0,upper=1> r; // mixture proportion of samples\n",
            "real<lower=0.0> sigma; // standard deviation\n",
            "real mu; // mean of individuals w/ normal expression\n",
            "real beta; // enhancer coefficient\n",
            "}\n",
            "\n",
            "model {\n",
            "r ~ beta(2,2); // mixture proportion based on natural scale\n",
            "mu ~ normal(0,10);\n",
            "beta ~ beta(2,2); // enhancer coefificent should be [0,1]\n",
            "sigma ~ inv_gamma(1,1);\n",
            "for(i in 1:N)\n",
            "target+= log_sum_exp(log(r)+normal_lpdf(X[i]|mu,sigma),\n",
            "log(1-r)+normal_lpdf(X[i]|beta*mu,sigma));\n",
            "}\n",
            "\n",
            "generated quantities {\n",
            "array[N] real<lower=0,upper=1> PZi;\n",
            "for(i in 1:N) {\n",
            "real LP0=log(r)+normal_lpdf(X[i]|mu,sigma);\n",
            "real LP1=log(1-r)+normal_lpdf(X[i]|beta*mu,sigma);\n",
            "PZi[i]=exp(LP0-log_sum_exp(LP0,LP1));\n",
            "}\n",
            "}\n"
          ]
        }
      ]
    },
    {
      "cell_type": "code",
      "source": [
        "import pandas as pd\n",
        "\n",
        "# Load the data\n",
        "data = pd.read_csv(\"data1.txt\", sep=\"\\t\")\n",
        "\n",
        "data = data.head(2400)\n",
        "\n",
        "# Prepare the data for Stan\n",
        "stan_data = {\n",
        "    \"N\": len(data),\n",
        "    \"X\": data[\"expression\"].values\n",
        "}"
      ],
      "metadata": {
        "id": "-QkdsYlDZ_ui"
      },
      "execution_count": null,
      "outputs": []
    },
    {
      "cell_type": "code",
      "source": [
        "# Compile the model\n",
        "model = CmdStanModel(stan_file=\"mixture/mixture.stan\")\n",
        "\n",
        "# Fit the model\n",
        "fit = model.sample(data=stan_data, iter_warmup=50, iter_sampling=1000, chains=4)\n",
        "\n",
        "# Print summary of results\n",
        "print(fit.summary())\n",
        "\n",
        "# Access generated quantities\n",
        "pzi = fit.stan_variable(\"PZi\")"
      ],
      "metadata": {
        "colab": {
          "base_uri": "https://localhost:8080/",
          "height": 668,
          "referenced_widgets": [
            "796e6124bbb0437ea92487898bb81401",
            "2e14523c346a4dc98587f1e1e819f569",
            "0725856a8b8b48b5a5d106d54792aeb0",
            "6ec61a0866074188aaf590e2aeb449a4",
            "35b75822850d4f628bdaaf20723839d1",
            "cb716274abe443e3978cc382e17cca88",
            "eb4ffc67db6a491b90df1cacce44e1b8",
            "25eb4f2a32834cb6b8f8d843e3e9d904",
            "b96a19840d0e42b983d9609b247c743a",
            "270166c21b0947cc8c489151ef3a5bd7",
            "d2729ab0a3a543199276dc79f295d9eb",
            "bd528d64a1c14b28af120e88d5432ab7",
            "c213cec54348401996171ff59a78bd5a",
            "f03df831608a42eaa9c8459c3c124390",
            "991ba8e5bc524c34b5cadc55f4f495e5",
            "c26e3a6c18854c06aea59bf176fbb2f8",
            "ffbaeff1bfcb4d7092bc1f37d267964c",
            "7192f807e914442aa509a834bb926380",
            "6fddc04306664d48a2153d0a7f572087",
            "ac082e3ab1dc48259bcf064c2da21527",
            "ffd1a47ca0e3458da1066fff62d5c2e5",
            "706ccf60dc104b96806b72fa52bab4ae",
            "0600cf193f484e578bf5d7092e3dc837",
            "86a19b32f1e2432a871f6f7125f82575",
            "fe950f45994042da98454c094e006db1",
            "f6a3faa0246649e9b39f9908b42078c5",
            "a332fbc4bfae49d789768cd1f9c2187b",
            "7d38f12202b643f3867f59ce67f3e1e0",
            "03641fd9098042b8b6f691a479b1a283",
            "ef47866b3eb543219acc6db19d8ea3a3",
            "c16d59820f6a43cf9b7544db8981642b",
            "634f16ab6f434f988832257bda369d17",
            "19c335381a554f83844229bcb5f3876b",
            "d3225639fc4f4fad96047d0f1e86a016",
            "3cf2af034acf400c8d28bdfb49489f31",
            "64593ab0d71d4ce5b4b21cced6904c51",
            "d2f867092729411dbf3839b330f2acb1",
            "ccf6801dae6843c29feb7356d5eaa875",
            "8da39c8f0e2f4761b5f1dd9072fb333d",
            "4a5a2369da0c4e6ab04df31c1b0a6240",
            "5b63676fd4ce4a6eaed17b0d7c05d81a",
            "9d379c417a0a47f9905e45896a1693f0",
            "a4300edb12c04a178701bce3db318876",
            "555f8feb8f0c450d92af29ea61f0ca4e"
          ]
        },
        "id": "ymPw6AoRWoRA",
        "outputId": "fdb10300-d4a6-417e-b45e-fe21bff31676"
      },
      "execution_count": null,
      "outputs": [
        {
          "output_type": "stream",
          "name": "stderr",
          "text": [
            "16:28:17 - cmdstanpy - INFO - compiling stan file /content/mixture/mixture.stan to exe file /content/mixture/mixture\n",
            "INFO:cmdstanpy:compiling stan file /content/mixture/mixture.stan to exe file /content/mixture/mixture\n",
            "DEBUG:cmdstanpy:cmd: make STANCFLAGS+=--filename-in-msg=mixture.stan /content/mixture/mixture\n",
            "cwd: /root/.cmdstan/cmdstan-2.35.0\n",
            "DEBUG:cmdstanpy:Console output:\n",
            "\n",
            "--- Translating Stan model to C++ code ---\n",
            "bin/stanc --filename-in-msg=mixture.stan --o=/content/mixture/mixture.hpp /content/mixture/mixture.stan\n",
            "\n",
            "--- Compiling C++ code ---\n",
            "g++ -std=c++17 -pthread -D_REENTRANT -Wno-sign-compare -Wno-ignored-attributes -Wno-class-memaccess      -I stan/lib/stan_math/lib/tbb_2020.3/include    -O3 -I src -I stan/src -I stan/lib/rapidjson_1.1.0/ -I lib/CLI11-1.9.1/ -I stan/lib/stan_math/ -I stan/lib/stan_math/lib/eigen_3.4.0 -I stan/lib/stan_math/lib/boost_1.84.0 -I stan/lib/stan_math/lib/sundials_6.1.1/include -I stan/lib/stan_math/lib/sundials_6.1.1/src/sundials    -DBOOST_DISABLE_ASSERTS          -c -Wno-ignored-attributes   -x c++ -o /content/mixture/mixture.o /content/mixture/mixture.hpp\n",
            "\n",
            "--- Linking model ---\n",
            "g++ -std=c++17 -pthread -D_REENTRANT -Wno-sign-compare -Wno-ignored-attributes -Wno-class-memaccess      -I stan/lib/stan_math/lib/tbb_2020.3/include    -O3 -I src -I stan/src -I stan/lib/rapidjson_1.1.0/ -I lib/CLI11-1.9.1/ -I stan/lib/stan_math/ -I stan/lib/stan_math/lib/eigen_3.4.0 -I stan/lib/stan_math/lib/boost_1.84.0 -I stan/lib/stan_math/lib/sundials_6.1.1/include -I stan/lib/stan_math/lib/sundials_6.1.1/src/sundials    -DBOOST_DISABLE_ASSERTS               -Wl,-L,\"/root/.cmdstan/cmdstan-2.35.0/stan/lib/stan_math/lib/tbb\"   -Wl,-rpath,\"/root/.cmdstan/cmdstan-2.35.0/stan/lib/stan_math/lib/tbb\"      /content/mixture/mixture.o src/cmdstan/main.o       -ltbb   stan/lib/stan_math/lib/sundials_6.1.1/lib/libsundials_nvecserial.a stan/lib/stan_math/lib/sundials_6.1.1/lib/libsundials_cvodes.a stan/lib/stan_math/lib/sundials_6.1.1/lib/libsundials_idas.a stan/lib/stan_math/lib/sundials_6.1.1/lib/libsundials_kinsol.a  stan/lib/stan_math/lib/tbb/libtbb.so.2 -o /content/mixture/mixture\n",
            "rm /content/mixture/mixture.hpp /content/mixture/mixture.o\n",
            "\n",
            "16:28:31 - cmdstanpy - INFO - compiled model executable: /content/mixture/mixture\n",
            "INFO:cmdstanpy:compiled model executable: /content/mixture/mixture\n",
            "DEBUG:cmdstanpy:cmd: /content/mixture/mixture info\n",
            "cwd: None\n",
            "DEBUG:cmdstanpy:input tempfile: /tmp/tmpxfta993i/82y59e_w.json\n",
            "16:28:31 - cmdstanpy - INFO - CmdStan start processing\n",
            "INFO:cmdstanpy:CmdStan start processing\n"
          ]
        },
        {
          "output_type": "display_data",
          "data": {
            "text/plain": [
              "chain 1 |          | 00:00 Status"
            ],
            "application/vnd.jupyter.widget-view+json": {
              "version_major": 2,
              "version_minor": 0,
              "model_id": "796e6124bbb0437ea92487898bb81401"
            }
          },
          "metadata": {}
        },
        {
          "output_type": "display_data",
          "data": {
            "text/plain": [
              "chain 2 |          | 00:00 Status"
            ],
            "application/vnd.jupyter.widget-view+json": {
              "version_major": 2,
              "version_minor": 0,
              "model_id": "bd528d64a1c14b28af120e88d5432ab7"
            }
          },
          "metadata": {}
        },
        {
          "output_type": "display_data",
          "data": {
            "text/plain": [
              "chain 3 |          | 00:00 Status"
            ],
            "application/vnd.jupyter.widget-view+json": {
              "version_major": 2,
              "version_minor": 0,
              "model_id": "0600cf193f484e578bf5d7092e3dc837"
            }
          },
          "metadata": {}
        },
        {
          "output_type": "display_data",
          "data": {
            "text/plain": [
              "chain 4 |          | 00:00 Status"
            ],
            "application/vnd.jupyter.widget-view+json": {
              "version_major": 2,
              "version_minor": 0,
              "model_id": "d3225639fc4f4fad96047d0f1e86a016"
            }
          },
          "metadata": {}
        },
        {
          "output_type": "stream",
          "name": "stderr",
          "text": [
            "DEBUG:cmdstanpy:idx 0\n",
            "DEBUG:cmdstanpy:idx 1\n",
            "DEBUG:cmdstanpy:running CmdStan, num_threads: 1\n",
            "DEBUG:cmdstanpy:running CmdStan, num_threads: 1\n",
            "DEBUG:cmdstanpy:CmdStan args: ['/content/mixture/mixture', 'id=1', 'random', 'seed=73242', 'data', 'file=/tmp/tmpxfta993i/82y59e_w.json', 'output', 'file=/tmp/tmpxfta993i/mixture46ctwnlx/mixture-20241113162831_1.csv', 'method=sample', 'num_samples=1000', 'num_warmup=50', 'algorithm=hmc', 'adapt', 'engaged=1']\n",
            "DEBUG:cmdstanpy:CmdStan args: ['/content/mixture/mixture', 'id=2', 'random', 'seed=73242', 'data', 'file=/tmp/tmpxfta993i/82y59e_w.json', 'output', 'file=/tmp/tmpxfta993i/mixture46ctwnlx/mixture-20241113162831_2.csv', 'method=sample', 'num_samples=1000', 'num_warmup=50', 'algorithm=hmc', 'adapt', 'engaged=1']\n"
          ]
        }
      ]
    },
    {
      "cell_type": "markdown",
      "source": [
        "# Model 2: Hierarchical Mixture Model\n",
        "\n",
        "Updated: 11.09.24\n",
        "\n",
        "\n",
        "$$ X_i \\sim r N (\\mu,\\sigma^2) + (1-r) N (\\beta_{enhancer}*\\mu,\\sigma^2) $$\n",
        "\n",
        "- $X_i$ is cell expression\n",
        "- $r$ is a mixture proportion of label $Z_i$\n",
        "- $Z_i \\in {0,1} $ and represents whether a cell had non-functional (0) or functional (1) guide\n",
        "- $\\mu$ is the mean of individuals w/normal expression\n",
        "- $\\beta$ is the enhancer coefficient"
      ],
      "metadata": {
        "id": "POZPW90IV8mn"
      }
    },
    {
      "cell_type": "code",
      "source": [
        "# Model 0: Naive Estimator with no guide effect\n",
        "# Model 1: Mixture\n",
        "# Model 2: Mixture with guide potency and empirical priors\n",
        "# Model 3: Mixture with guide functionality generated quantities\n",
        "# Model 4: Pooled mixtured\n",
        "\n",
        "stan_code =\"\"\"\n",
        "data {\n",
        "  int<lower=0> N_control;                   // Number of control samples\n",
        "  int<lower=0> N_experiment;                // Number of experimental samples\n",
        "  int<lower=0> N_enhancers;                 // Number of enhancers\n",
        "  int<lower=0> N_guides;                     // Number of guides\n",
        "  array[N_control] real<lower=0> y_control;  // Expression levels in control samples\n",
        "  array[N_experiment] real<lower=0> y_experiment;   // Expression levels in experimental samples\n",
        "  array[N_experiment] int<lower=1> guide;  // Guide index for each experiment sample (1 to 5)\n",
        "  array[N_experiment] int<lower=1> enhancer; // Enhancer index for each experiment sample (1 to 5)\n",
        "}\n",
        "\n",
        "transformed data {\n",
        "  real<lower=0> mu_control_observed = mean(y_control);            // Empirical mean of y_control\n",
        "  real<lower=0> sigma_control_observed = sd(y_control);           // Empirical standard deviation of y_control\n",
        "  real<lower=0> mu_experiment_observed = mean(y_experiment);      // Empirical mean of y_experiment\n",
        "  real<lower=0> sigma_experiment_observed = sd(y_experiment);     // Empirical standard deviation of y_experiment\n",
        "  real beta_observed = mu_experiment_observed / mu_control_observed;  // Empirical effect size\n",
        "}\n",
        "\n",
        "parameters {\n",
        "  real<lower=0> mu_control;                 // Mean expression in control condition\n",
        "  array[N_enhancers] real<lower=0, upper=1> B;        // Effect sizes for each enhancer\n",
        "  real<lower=0, upper=10000> sigma_control; // Standard deviation in control condition\n",
        "  real<lower=0, upper=10000> sigma_experiment; // Standard deviation in experiment condition\n",
        "  array[N_guides] real<lower=0, upper=1> potency;  // Potency for each guide (0 to 1)\n",
        "}\n",
        "\n",
        "transformed parameters {\n",
        "  array[N_enhancers] real<lower=0> mu_experiment;     // Expression levels for each enhancer\n",
        "\n",
        "  for (e in 1:N_enhancers) {\n",
        "    mu_experiment[e] = B[e] * mu_control;   // Calculate experiment mean for each enhancer\n",
        "  }\n",
        "}\n",
        "\n",
        "model {\n",
        "  // Priors based on provided initial values\n",
        "  mu_control ~ normal(mu_control_observed, sigma_control_observed);\n",
        "  B ~ beta(0.5, 0.5);                      // Priors for each enhancer effect size\n",
        "  sigma_control ~ cauchy(sigma_control_observed, 2);\n",
        "  sigma_experiment ~ cauchy(sigma_experiment_observed, 2);\n",
        "  potency ~ beta(0.5, 0.5);                // Prior for potency of each guide\n",
        "\n",
        "  // Likelihoods\n",
        "  y_control ~ normal(mu_control, sigma_control); // Control samples from control distribution\n",
        "\n",
        "  for (n in 1:N_experiment) {\n",
        "    real mean_expr = (1 - potency[guide[n]]) * mu_control + potency[guide[n]] * mu_experiment[enhancer[n]];\n",
        "    y_experiment[n] ~ normal(mean_expr, sigma_experiment);\n",
        "  }\n",
        "}\n",
        "\n",
        "/*\n",
        "generated quantities {\n",
        "  array[N_guides] int<lower=0, upper=1> guide_functionality;\n",
        "\n",
        "  for (g in 1:N_guides) {\n",
        "    real log_nonfunctional = 0;\n",
        "    real log_functional = 0;\n",
        "\n",
        "    for (n in 1:N_experiment) {\n",
        "      if (guide[n] == g) {\n",
        "        log_nonfunctional += log1m(potency[g]) + normal_lpdf(y_experiment[n] | mu_control, sigma_control);\n",
        "        log_functional += log(potency[g]) + normal_lpdf(y_experiment[n] | mu_experiment[enhancer[n]], sigma_experiment);\n",
        "      }\n",
        "    }\n",
        "    guide_functionality[g] = log_functional > log_nonfunctional ? 1 : 0;\n",
        "  }\n",
        "}\n",
        "*/\n",
        "\n",
        "\"\"\"\n",
        "name = 'model4_pooled'\n",
        "! mkdir {name}\n",
        "with open('%s/%s.stan'%(name,name), 'w') as f: f.write(stan_code)\n",
        "! cat {name}/{name}.stan"
      ],
      "metadata": {
        "id": "G1EMVerTWGDt"
      },
      "execution_count": null,
      "outputs": []
    },
    {
      "cell_type": "code",
      "source": [
        "model = CmdStanModel(stan_file='%s/%s.stan'%(name,name))"
      ],
      "metadata": {
        "id": "3rc7Bk9pWbUA"
      },
      "execution_count": null,
      "outputs": []
    },
    {
      "cell_type": "code",
      "source": [
        "print(\"=====Truth=====\")\n",
        "\n",
        "print('GeneID:',geneID)\n",
        "print('Y_control expression:',round(y_control.mean(),2),round(y_control.std(),2))\n",
        "print('Y_experiment expression:',round(y_experiment.mean(),2),round(y_experiment.std(),2))\n",
        "print('Naive GeneID Beta Estimator:',round(y_experiment.mean()/y_control.mean(),4))\n",
        "\n",
        "enhancer_guide_agg = data_subset.groupby(['enhancerID','guideID']).agg({'cellID':'count','expression':'mean'})\n",
        "enhancer_guide_agg['Beta_Guide'] = enhancer_guide_agg['expression'].apply(lambda x: x / y_control.mean())\n",
        "enhancer_guide_agg['Guide_Function_Prediction'] = enhancer_guide_agg['Beta_Guide'].apply(lambda x: 'Functional Guide [1]' if x < .92 else 'Non-Functional Guide [0]')\n",
        "\n",
        "enhancer_grouped = enhancer_guide_agg.groupby('enhancerID').agg(list)\n",
        "\n",
        "print('Sophisticated Beta Estimator:')\n",
        "for ix,i in enhancer_grouped.iterrows():\n",
        "    functional_guide_betas = [guide for status,guide in list(zip(i.Guide_Function_Prediction,i.Beta_Guide)) if not 'Non' in status]\n",
        "    if ix > 0:\n",
        "        print('\\t\\u03B2 EnhancerID %s:'%(ix),round(np.mean(functional_guide_betas),2))"
      ],
      "metadata": {
        "id": "OB2V1eYRXh4l"
      },
      "execution_count": null,
      "outputs": []
    },
    {
      "cell_type": "code",
      "source": [
        "model_fit = model.sample(data=data,thin=1,iter_sampling=1500,iter_warmup=50,seed=11051999,max_treedepth=100)"
      ],
      "metadata": {
        "id": "GAHYEERkXkZC"
      },
      "execution_count": null,
      "outputs": []
    },
    {
      "cell_type": "code",
      "source": [
        "print(model_fit.diagnose())"
      ],
      "metadata": {
        "id": "oYE9jIbTXlUI"
      },
      "execution_count": null,
      "outputs": []
    },
    {
      "cell_type": "code",
      "source": [
        "model_fit_mean = model_fit.summary().Mean.to_dict()\n",
        "\n",
        "# print(\"=====Posterior Mean for Gene-Enhancer Betas=====\")\n",
        "\n",
        "# # Initialize the nested dictionary\n",
        "# nested_dict = {}\n",
        "\n",
        "# # Iterate through the median_values dictionary\n",
        "# for key, value in posterior_mean.items():\n",
        "#     if '[' in key and ']' in key:\n",
        "#         # Split the key to get the outer and inner keys\n",
        "#         outer_key, inner_key = key.split('[')\n",
        "#         inner_key = inner_key.rstrip(']')  # Remove the closing bracket\n",
        "\n",
        "#         # Ensure the outer key exists in the nested dictionary\n",
        "#         if outer_key not in nested_dict:\n",
        "#             nested_dict[outer_key] = {}\n",
        "\n",
        "#         # Assign the value to the appropriate place in the nested dictionary\n",
        "#         nested_dict[outer_key][int(inner_key)] = value\n",
        "#     else:\n",
        "#         # If the key does not have an index, add it directly to the nested dictionary\n",
        "#         nested_dict[key] = value\n",
        "\n",
        "# posterior_mean = nested_dict\n",
        "\n",
        "# { i for i in model_fit_mean.items() if 'B' in i[0]}"
      ],
      "metadata": {
        "id": "Sk0F6v65XoiK"
      },
      "execution_count": null,
      "outputs": []
    },
    {
      "cell_type": "code",
      "source": [
        "draws = model_fit.draws_pd()\n",
        "print(\"=====Posterior Mean for Gene-Enhancer Betas=====\")\n",
        "posterior_mean = draws[[i for i in draws.columns if 'B' in i]].apply('mean').squeeze().to_dict()\n",
        "print(posterior_mean)\n",
        "print(\"=====Posterior Median for Gene-Enhancer Betas=====\")\n",
        "posterior_median = draws[[i for i in draws.columns if 'B' in i]].apply('median').squeeze().to_dict()\n",
        "print(posterior_median)\n",
        "print(\"=====Posterior Mode for Gene-Enhancer Betas=====\")\n",
        "posterior_mode = draws[[i for i in draws.columns if 'B' in i]].apply('mode').squeeze().to_dict()\n",
        "print(posterior_mode)"
      ],
      "metadata": {
        "id": "B7QKWnG6XsWZ"
      },
      "execution_count": null,
      "outputs": []
    },
    {
      "cell_type": "code",
      "source": [
        "true_betas = [0.88, 0.59, 0.39, 0.7, 0.32]\n",
        "\n",
        "print(\"=====True Gene-Enhancer Betas=====\")\n",
        "for i in enumerate(true_betas):\n",
        "    print('EnhancerID %s:'%(i[0]+1),i[1])"
      ],
      "metadata": {
        "id": "ncJXl12PXvZf"
      },
      "execution_count": null,
      "outputs": []
    },
    {
      "cell_type": "code",
      "source": [
        "final_data.geneID.nunique()"
      ],
      "metadata": {
        "id": "Y4k4-rq6XzMH"
      },
      "execution_count": null,
      "outputs": []
    }
  ],
  "metadata": {
    "colab": {
      "provenance": []
    },
    "kernelspec": {
      "display_name": "Python 3",
      "name": "python3"
    },
    "language_info": {
      "name": "python"
    },
    "widgets": {
      "application/vnd.jupyter.widget-state+json": {
        "796e6124bbb0437ea92487898bb81401": {
          "model_module": "@jupyter-widgets/controls",
          "model_name": "HBoxModel",
          "model_module_version": "1.5.0",
          "state": {
            "_dom_classes": [],
            "_model_module": "@jupyter-widgets/controls",
            "_model_module_version": "1.5.0",
            "_model_name": "HBoxModel",
            "_view_count": null,
            "_view_module": "@jupyter-widgets/controls",
            "_view_module_version": "1.5.0",
            "_view_name": "HBoxView",
            "box_style": "",
            "children": [
              "IPY_MODEL_2e14523c346a4dc98587f1e1e819f569",
              "IPY_MODEL_0725856a8b8b48b5a5d106d54792aeb0",
              "IPY_MODEL_6ec61a0866074188aaf590e2aeb449a4"
            ],
            "layout": "IPY_MODEL_35b75822850d4f628bdaaf20723839d1"
          }
        },
        "2e14523c346a4dc98587f1e1e819f569": {
          "model_module": "@jupyter-widgets/controls",
          "model_name": "HTMLModel",
          "model_module_version": "1.5.0",
          "state": {
            "_dom_classes": [],
            "_model_module": "@jupyter-widgets/controls",
            "_model_module_version": "1.5.0",
            "_model_name": "HTMLModel",
            "_view_count": null,
            "_view_module": "@jupyter-widgets/controls",
            "_view_module_version": "1.5.0",
            "_view_name": "HTMLView",
            "description": "",
            "description_tooltip": null,
            "layout": "IPY_MODEL_cb716274abe443e3978cc382e17cca88",
            "placeholder": "​",
            "style": "IPY_MODEL_eb4ffc67db6a491b90df1cacce44e1b8",
            "value": "chain 1 "
          }
        },
        "0725856a8b8b48b5a5d106d54792aeb0": {
          "model_module": "@jupyter-widgets/controls",
          "model_name": "FloatProgressModel",
          "model_module_version": "1.5.0",
          "state": {
            "_dom_classes": [],
            "_model_module": "@jupyter-widgets/controls",
            "_model_module_version": "1.5.0",
            "_model_name": "FloatProgressModel",
            "_view_count": null,
            "_view_module": "@jupyter-widgets/controls",
            "_view_module_version": "1.5.0",
            "_view_name": "ProgressView",
            "bar_style": "",
            "description": "",
            "description_tooltip": null,
            "layout": "IPY_MODEL_25eb4f2a32834cb6b8f8d843e3e9d904",
            "max": 12,
            "min": 0,
            "orientation": "horizontal",
            "style": "IPY_MODEL_b96a19840d0e42b983d9609b247c743a",
            "value": 1
          }
        },
        "6ec61a0866074188aaf590e2aeb449a4": {
          "model_module": "@jupyter-widgets/controls",
          "model_name": "HTMLModel",
          "model_module_version": "1.5.0",
          "state": {
            "_dom_classes": [],
            "_model_module": "@jupyter-widgets/controls",
            "_model_module_version": "1.5.0",
            "_model_name": "HTMLModel",
            "_view_count": null,
            "_view_module": "@jupyter-widgets/controls",
            "_view_module_version": "1.5.0",
            "_view_name": "HTMLView",
            "description": "",
            "description_tooltip": null,
            "layout": "IPY_MODEL_270166c21b0947cc8c489151ef3a5bd7",
            "placeholder": "​",
            "style": "IPY_MODEL_d2729ab0a3a543199276dc79f295d9eb",
            "value": " 00:19 Status"
          }
        },
        "35b75822850d4f628bdaaf20723839d1": {
          "model_module": "@jupyter-widgets/base",
          "model_name": "LayoutModel",
          "model_module_version": "1.2.0",
          "state": {
            "_model_module": "@jupyter-widgets/base",
            "_model_module_version": "1.2.0",
            "_model_name": "LayoutModel",
            "_view_count": null,
            "_view_module": "@jupyter-widgets/base",
            "_view_module_version": "1.2.0",
            "_view_name": "LayoutView",
            "align_content": null,
            "align_items": null,
            "align_self": null,
            "border": null,
            "bottom": null,
            "display": null,
            "flex": null,
            "flex_flow": null,
            "grid_area": null,
            "grid_auto_columns": null,
            "grid_auto_flow": null,
            "grid_auto_rows": null,
            "grid_column": null,
            "grid_gap": null,
            "grid_row": null,
            "grid_template_areas": null,
            "grid_template_columns": null,
            "grid_template_rows": null,
            "height": null,
            "justify_content": null,
            "justify_items": null,
            "left": null,
            "margin": null,
            "max_height": null,
            "max_width": null,
            "min_height": null,
            "min_width": null,
            "object_fit": null,
            "object_position": null,
            "order": null,
            "overflow": null,
            "overflow_x": null,
            "overflow_y": null,
            "padding": null,
            "right": null,
            "top": null,
            "visibility": null,
            "width": null
          }
        },
        "cb716274abe443e3978cc382e17cca88": {
          "model_module": "@jupyter-widgets/base",
          "model_name": "LayoutModel",
          "model_module_version": "1.2.0",
          "state": {
            "_model_module": "@jupyter-widgets/base",
            "_model_module_version": "1.2.0",
            "_model_name": "LayoutModel",
            "_view_count": null,
            "_view_module": "@jupyter-widgets/base",
            "_view_module_version": "1.2.0",
            "_view_name": "LayoutView",
            "align_content": null,
            "align_items": null,
            "align_self": null,
            "border": null,
            "bottom": null,
            "display": null,
            "flex": null,
            "flex_flow": null,
            "grid_area": null,
            "grid_auto_columns": null,
            "grid_auto_flow": null,
            "grid_auto_rows": null,
            "grid_column": null,
            "grid_gap": null,
            "grid_row": null,
            "grid_template_areas": null,
            "grid_template_columns": null,
            "grid_template_rows": null,
            "height": null,
            "justify_content": null,
            "justify_items": null,
            "left": null,
            "margin": null,
            "max_height": null,
            "max_width": null,
            "min_height": null,
            "min_width": null,
            "object_fit": null,
            "object_position": null,
            "order": null,
            "overflow": null,
            "overflow_x": null,
            "overflow_y": null,
            "padding": null,
            "right": null,
            "top": null,
            "visibility": null,
            "width": null
          }
        },
        "eb4ffc67db6a491b90df1cacce44e1b8": {
          "model_module": "@jupyter-widgets/controls",
          "model_name": "DescriptionStyleModel",
          "model_module_version": "1.5.0",
          "state": {
            "_model_module": "@jupyter-widgets/controls",
            "_model_module_version": "1.5.0",
            "_model_name": "DescriptionStyleModel",
            "_view_count": null,
            "_view_module": "@jupyter-widgets/base",
            "_view_module_version": "1.2.0",
            "_view_name": "StyleView",
            "description_width": ""
          }
        },
        "25eb4f2a32834cb6b8f8d843e3e9d904": {
          "model_module": "@jupyter-widgets/base",
          "model_name": "LayoutModel",
          "model_module_version": "1.2.0",
          "state": {
            "_model_module": "@jupyter-widgets/base",
            "_model_module_version": "1.2.0",
            "_model_name": "LayoutModel",
            "_view_count": null,
            "_view_module": "@jupyter-widgets/base",
            "_view_module_version": "1.2.0",
            "_view_name": "LayoutView",
            "align_content": null,
            "align_items": null,
            "align_self": null,
            "border": null,
            "bottom": null,
            "display": null,
            "flex": null,
            "flex_flow": null,
            "grid_area": null,
            "grid_auto_columns": null,
            "grid_auto_flow": null,
            "grid_auto_rows": null,
            "grid_column": null,
            "grid_gap": null,
            "grid_row": null,
            "grid_template_areas": null,
            "grid_template_columns": null,
            "grid_template_rows": null,
            "height": null,
            "justify_content": null,
            "justify_items": null,
            "left": null,
            "margin": null,
            "max_height": null,
            "max_width": null,
            "min_height": null,
            "min_width": null,
            "object_fit": null,
            "object_position": null,
            "order": null,
            "overflow": null,
            "overflow_x": null,
            "overflow_y": null,
            "padding": null,
            "right": null,
            "top": null,
            "visibility": null,
            "width": null
          }
        },
        "b96a19840d0e42b983d9609b247c743a": {
          "model_module": "@jupyter-widgets/controls",
          "model_name": "ProgressStyleModel",
          "model_module_version": "1.5.0",
          "state": {
            "_model_module": "@jupyter-widgets/controls",
            "_model_module_version": "1.5.0",
            "_model_name": "ProgressStyleModel",
            "_view_count": null,
            "_view_module": "@jupyter-widgets/base",
            "_view_module_version": "1.2.0",
            "_view_name": "StyleView",
            "bar_color": "yellow",
            "description_width": ""
          }
        },
        "270166c21b0947cc8c489151ef3a5bd7": {
          "model_module": "@jupyter-widgets/base",
          "model_name": "LayoutModel",
          "model_module_version": "1.2.0",
          "state": {
            "_model_module": "@jupyter-widgets/base",
            "_model_module_version": "1.2.0",
            "_model_name": "LayoutModel",
            "_view_count": null,
            "_view_module": "@jupyter-widgets/base",
            "_view_module_version": "1.2.0",
            "_view_name": "LayoutView",
            "align_content": null,
            "align_items": null,
            "align_self": null,
            "border": null,
            "bottom": null,
            "display": null,
            "flex": null,
            "flex_flow": null,
            "grid_area": null,
            "grid_auto_columns": null,
            "grid_auto_flow": null,
            "grid_auto_rows": null,
            "grid_column": null,
            "grid_gap": null,
            "grid_row": null,
            "grid_template_areas": null,
            "grid_template_columns": null,
            "grid_template_rows": null,
            "height": null,
            "justify_content": null,
            "justify_items": null,
            "left": null,
            "margin": null,
            "max_height": null,
            "max_width": null,
            "min_height": null,
            "min_width": null,
            "object_fit": null,
            "object_position": null,
            "order": null,
            "overflow": null,
            "overflow_x": null,
            "overflow_y": null,
            "padding": null,
            "right": null,
            "top": null,
            "visibility": null,
            "width": null
          }
        },
        "d2729ab0a3a543199276dc79f295d9eb": {
          "model_module": "@jupyter-widgets/controls",
          "model_name": "DescriptionStyleModel",
          "model_module_version": "1.5.0",
          "state": {
            "_model_module": "@jupyter-widgets/controls",
            "_model_module_version": "1.5.0",
            "_model_name": "DescriptionStyleModel",
            "_view_count": null,
            "_view_module": "@jupyter-widgets/base",
            "_view_module_version": "1.2.0",
            "_view_name": "StyleView",
            "description_width": ""
          }
        },
        "bd528d64a1c14b28af120e88d5432ab7": {
          "model_module": "@jupyter-widgets/controls",
          "model_name": "HBoxModel",
          "model_module_version": "1.5.0",
          "state": {
            "_dom_classes": [],
            "_model_module": "@jupyter-widgets/controls",
            "_model_module_version": "1.5.0",
            "_model_name": "HBoxModel",
            "_view_count": null,
            "_view_module": "@jupyter-widgets/controls",
            "_view_module_version": "1.5.0",
            "_view_name": "HBoxView",
            "box_style": "",
            "children": [
              "IPY_MODEL_c213cec54348401996171ff59a78bd5a",
              "IPY_MODEL_f03df831608a42eaa9c8459c3c124390",
              "IPY_MODEL_991ba8e5bc524c34b5cadc55f4f495e5"
            ],
            "layout": "IPY_MODEL_c26e3a6c18854c06aea59bf176fbb2f8"
          }
        },
        "c213cec54348401996171ff59a78bd5a": {
          "model_module": "@jupyter-widgets/controls",
          "model_name": "HTMLModel",
          "model_module_version": "1.5.0",
          "state": {
            "_dom_classes": [],
            "_model_module": "@jupyter-widgets/controls",
            "_model_module_version": "1.5.0",
            "_model_name": "HTMLModel",
            "_view_count": null,
            "_view_module": "@jupyter-widgets/controls",
            "_view_module_version": "1.5.0",
            "_view_name": "HTMLView",
            "description": "",
            "description_tooltip": null,
            "layout": "IPY_MODEL_ffbaeff1bfcb4d7092bc1f37d267964c",
            "placeholder": "​",
            "style": "IPY_MODEL_7192f807e914442aa509a834bb926380",
            "value": "chain 2 "
          }
        },
        "f03df831608a42eaa9c8459c3c124390": {
          "model_module": "@jupyter-widgets/controls",
          "model_name": "FloatProgressModel",
          "model_module_version": "1.5.0",
          "state": {
            "_dom_classes": [],
            "_model_module": "@jupyter-widgets/controls",
            "_model_module_version": "1.5.0",
            "_model_name": "FloatProgressModel",
            "_view_count": null,
            "_view_module": "@jupyter-widgets/controls",
            "_view_module_version": "1.5.0",
            "_view_name": "ProgressView",
            "bar_style": "",
            "description": "",
            "description_tooltip": null,
            "layout": "IPY_MODEL_6fddc04306664d48a2153d0a7f572087",
            "max": 12,
            "min": 0,
            "orientation": "horizontal",
            "style": "IPY_MODEL_ac082e3ab1dc48259bcf064c2da21527",
            "value": 1
          }
        },
        "991ba8e5bc524c34b5cadc55f4f495e5": {
          "model_module": "@jupyter-widgets/controls",
          "model_name": "HTMLModel",
          "model_module_version": "1.5.0",
          "state": {
            "_dom_classes": [],
            "_model_module": "@jupyter-widgets/controls",
            "_model_module_version": "1.5.0",
            "_model_name": "HTMLModel",
            "_view_count": null,
            "_view_module": "@jupyter-widgets/controls",
            "_view_module_version": "1.5.0",
            "_view_name": "HTMLView",
            "description": "",
            "description_tooltip": null,
            "layout": "IPY_MODEL_ffd1a47ca0e3458da1066fff62d5c2e5",
            "placeholder": "​",
            "style": "IPY_MODEL_706ccf60dc104b96806b72fa52bab4ae",
            "value": " 00:18 Status"
          }
        },
        "c26e3a6c18854c06aea59bf176fbb2f8": {
          "model_module": "@jupyter-widgets/base",
          "model_name": "LayoutModel",
          "model_module_version": "1.2.0",
          "state": {
            "_model_module": "@jupyter-widgets/base",
            "_model_module_version": "1.2.0",
            "_model_name": "LayoutModel",
            "_view_count": null,
            "_view_module": "@jupyter-widgets/base",
            "_view_module_version": "1.2.0",
            "_view_name": "LayoutView",
            "align_content": null,
            "align_items": null,
            "align_self": null,
            "border": null,
            "bottom": null,
            "display": null,
            "flex": null,
            "flex_flow": null,
            "grid_area": null,
            "grid_auto_columns": null,
            "grid_auto_flow": null,
            "grid_auto_rows": null,
            "grid_column": null,
            "grid_gap": null,
            "grid_row": null,
            "grid_template_areas": null,
            "grid_template_columns": null,
            "grid_template_rows": null,
            "height": null,
            "justify_content": null,
            "justify_items": null,
            "left": null,
            "margin": null,
            "max_height": null,
            "max_width": null,
            "min_height": null,
            "min_width": null,
            "object_fit": null,
            "object_position": null,
            "order": null,
            "overflow": null,
            "overflow_x": null,
            "overflow_y": null,
            "padding": null,
            "right": null,
            "top": null,
            "visibility": null,
            "width": null
          }
        },
        "ffbaeff1bfcb4d7092bc1f37d267964c": {
          "model_module": "@jupyter-widgets/base",
          "model_name": "LayoutModel",
          "model_module_version": "1.2.0",
          "state": {
            "_model_module": "@jupyter-widgets/base",
            "_model_module_version": "1.2.0",
            "_model_name": "LayoutModel",
            "_view_count": null,
            "_view_module": "@jupyter-widgets/base",
            "_view_module_version": "1.2.0",
            "_view_name": "LayoutView",
            "align_content": null,
            "align_items": null,
            "align_self": null,
            "border": null,
            "bottom": null,
            "display": null,
            "flex": null,
            "flex_flow": null,
            "grid_area": null,
            "grid_auto_columns": null,
            "grid_auto_flow": null,
            "grid_auto_rows": null,
            "grid_column": null,
            "grid_gap": null,
            "grid_row": null,
            "grid_template_areas": null,
            "grid_template_columns": null,
            "grid_template_rows": null,
            "height": null,
            "justify_content": null,
            "justify_items": null,
            "left": null,
            "margin": null,
            "max_height": null,
            "max_width": null,
            "min_height": null,
            "min_width": null,
            "object_fit": null,
            "object_position": null,
            "order": null,
            "overflow": null,
            "overflow_x": null,
            "overflow_y": null,
            "padding": null,
            "right": null,
            "top": null,
            "visibility": null,
            "width": null
          }
        },
        "7192f807e914442aa509a834bb926380": {
          "model_module": "@jupyter-widgets/controls",
          "model_name": "DescriptionStyleModel",
          "model_module_version": "1.5.0",
          "state": {
            "_model_module": "@jupyter-widgets/controls",
            "_model_module_version": "1.5.0",
            "_model_name": "DescriptionStyleModel",
            "_view_count": null,
            "_view_module": "@jupyter-widgets/base",
            "_view_module_version": "1.2.0",
            "_view_name": "StyleView",
            "description_width": ""
          }
        },
        "6fddc04306664d48a2153d0a7f572087": {
          "model_module": "@jupyter-widgets/base",
          "model_name": "LayoutModel",
          "model_module_version": "1.2.0",
          "state": {
            "_model_module": "@jupyter-widgets/base",
            "_model_module_version": "1.2.0",
            "_model_name": "LayoutModel",
            "_view_count": null,
            "_view_module": "@jupyter-widgets/base",
            "_view_module_version": "1.2.0",
            "_view_name": "LayoutView",
            "align_content": null,
            "align_items": null,
            "align_self": null,
            "border": null,
            "bottom": null,
            "display": null,
            "flex": null,
            "flex_flow": null,
            "grid_area": null,
            "grid_auto_columns": null,
            "grid_auto_flow": null,
            "grid_auto_rows": null,
            "grid_column": null,
            "grid_gap": null,
            "grid_row": null,
            "grid_template_areas": null,
            "grid_template_columns": null,
            "grid_template_rows": null,
            "height": null,
            "justify_content": null,
            "justify_items": null,
            "left": null,
            "margin": null,
            "max_height": null,
            "max_width": null,
            "min_height": null,
            "min_width": null,
            "object_fit": null,
            "object_position": null,
            "order": null,
            "overflow": null,
            "overflow_x": null,
            "overflow_y": null,
            "padding": null,
            "right": null,
            "top": null,
            "visibility": null,
            "width": null
          }
        },
        "ac082e3ab1dc48259bcf064c2da21527": {
          "model_module": "@jupyter-widgets/controls",
          "model_name": "ProgressStyleModel",
          "model_module_version": "1.5.0",
          "state": {
            "_model_module": "@jupyter-widgets/controls",
            "_model_module_version": "1.5.0",
            "_model_name": "ProgressStyleModel",
            "_view_count": null,
            "_view_module": "@jupyter-widgets/base",
            "_view_module_version": "1.2.0",
            "_view_name": "StyleView",
            "bar_color": "yellow",
            "description_width": ""
          }
        },
        "ffd1a47ca0e3458da1066fff62d5c2e5": {
          "model_module": "@jupyter-widgets/base",
          "model_name": "LayoutModel",
          "model_module_version": "1.2.0",
          "state": {
            "_model_module": "@jupyter-widgets/base",
            "_model_module_version": "1.2.0",
            "_model_name": "LayoutModel",
            "_view_count": null,
            "_view_module": "@jupyter-widgets/base",
            "_view_module_version": "1.2.0",
            "_view_name": "LayoutView",
            "align_content": null,
            "align_items": null,
            "align_self": null,
            "border": null,
            "bottom": null,
            "display": null,
            "flex": null,
            "flex_flow": null,
            "grid_area": null,
            "grid_auto_columns": null,
            "grid_auto_flow": null,
            "grid_auto_rows": null,
            "grid_column": null,
            "grid_gap": null,
            "grid_row": null,
            "grid_template_areas": null,
            "grid_template_columns": null,
            "grid_template_rows": null,
            "height": null,
            "justify_content": null,
            "justify_items": null,
            "left": null,
            "margin": null,
            "max_height": null,
            "max_width": null,
            "min_height": null,
            "min_width": null,
            "object_fit": null,
            "object_position": null,
            "order": null,
            "overflow": null,
            "overflow_x": null,
            "overflow_y": null,
            "padding": null,
            "right": null,
            "top": null,
            "visibility": null,
            "width": null
          }
        },
        "706ccf60dc104b96806b72fa52bab4ae": {
          "model_module": "@jupyter-widgets/controls",
          "model_name": "DescriptionStyleModel",
          "model_module_version": "1.5.0",
          "state": {
            "_model_module": "@jupyter-widgets/controls",
            "_model_module_version": "1.5.0",
            "_model_name": "DescriptionStyleModel",
            "_view_count": null,
            "_view_module": "@jupyter-widgets/base",
            "_view_module_version": "1.2.0",
            "_view_name": "StyleView",
            "description_width": ""
          }
        },
        "0600cf193f484e578bf5d7092e3dc837": {
          "model_module": "@jupyter-widgets/controls",
          "model_name": "HBoxModel",
          "model_module_version": "1.5.0",
          "state": {
            "_dom_classes": [],
            "_model_module": "@jupyter-widgets/controls",
            "_model_module_version": "1.5.0",
            "_model_name": "HBoxModel",
            "_view_count": null,
            "_view_module": "@jupyter-widgets/controls",
            "_view_module_version": "1.5.0",
            "_view_name": "HBoxView",
            "box_style": "",
            "children": [
              "IPY_MODEL_86a19b32f1e2432a871f6f7125f82575",
              "IPY_MODEL_fe950f45994042da98454c094e006db1",
              "IPY_MODEL_f6a3faa0246649e9b39f9908b42078c5"
            ],
            "layout": "IPY_MODEL_a332fbc4bfae49d789768cd1f9c2187b"
          }
        },
        "86a19b32f1e2432a871f6f7125f82575": {
          "model_module": "@jupyter-widgets/controls",
          "model_name": "HTMLModel",
          "model_module_version": "1.5.0",
          "state": {
            "_dom_classes": [],
            "_model_module": "@jupyter-widgets/controls",
            "_model_module_version": "1.5.0",
            "_model_name": "HTMLModel",
            "_view_count": null,
            "_view_module": "@jupyter-widgets/controls",
            "_view_module_version": "1.5.0",
            "_view_name": "HTMLView",
            "description": "",
            "description_tooltip": null,
            "layout": "IPY_MODEL_7d38f12202b643f3867f59ce67f3e1e0",
            "placeholder": "​",
            "style": "IPY_MODEL_03641fd9098042b8b6f691a479b1a283",
            "value": "chain 3 "
          }
        },
        "fe950f45994042da98454c094e006db1": {
          "model_module": "@jupyter-widgets/controls",
          "model_name": "FloatProgressModel",
          "model_module_version": "1.5.0",
          "state": {
            "_dom_classes": [],
            "_model_module": "@jupyter-widgets/controls",
            "_model_module_version": "1.5.0",
            "_model_name": "FloatProgressModel",
            "_view_count": null,
            "_view_module": "@jupyter-widgets/controls",
            "_view_module_version": "1.5.0",
            "_view_name": "ProgressView",
            "bar_style": "",
            "description": "",
            "description_tooltip": null,
            "layout": "IPY_MODEL_ef47866b3eb543219acc6db19d8ea3a3",
            "max": 12,
            "min": 0,
            "orientation": "horizontal",
            "style": "IPY_MODEL_c16d59820f6a43cf9b7544db8981642b",
            "value": 0
          }
        },
        "f6a3faa0246649e9b39f9908b42078c5": {
          "model_module": "@jupyter-widgets/controls",
          "model_name": "HTMLModel",
          "model_module_version": "1.5.0",
          "state": {
            "_dom_classes": [],
            "_model_module": "@jupyter-widgets/controls",
            "_model_module_version": "1.5.0",
            "_model_name": "HTMLModel",
            "_view_count": null,
            "_view_module": "@jupyter-widgets/controls",
            "_view_module_version": "1.5.0",
            "_view_name": "HTMLView",
            "description": "",
            "description_tooltip": null,
            "layout": "IPY_MODEL_634f16ab6f434f988832257bda369d17",
            "placeholder": "​",
            "style": "IPY_MODEL_19c335381a554f83844229bcb5f3876b",
            "value": " 00:00 Status"
          }
        },
        "a332fbc4bfae49d789768cd1f9c2187b": {
          "model_module": "@jupyter-widgets/base",
          "model_name": "LayoutModel",
          "model_module_version": "1.2.0",
          "state": {
            "_model_module": "@jupyter-widgets/base",
            "_model_module_version": "1.2.0",
            "_model_name": "LayoutModel",
            "_view_count": null,
            "_view_module": "@jupyter-widgets/base",
            "_view_module_version": "1.2.0",
            "_view_name": "LayoutView",
            "align_content": null,
            "align_items": null,
            "align_self": null,
            "border": null,
            "bottom": null,
            "display": null,
            "flex": null,
            "flex_flow": null,
            "grid_area": null,
            "grid_auto_columns": null,
            "grid_auto_flow": null,
            "grid_auto_rows": null,
            "grid_column": null,
            "grid_gap": null,
            "grid_row": null,
            "grid_template_areas": null,
            "grid_template_columns": null,
            "grid_template_rows": null,
            "height": null,
            "justify_content": null,
            "justify_items": null,
            "left": null,
            "margin": null,
            "max_height": null,
            "max_width": null,
            "min_height": null,
            "min_width": null,
            "object_fit": null,
            "object_position": null,
            "order": null,
            "overflow": null,
            "overflow_x": null,
            "overflow_y": null,
            "padding": null,
            "right": null,
            "top": null,
            "visibility": null,
            "width": null
          }
        },
        "7d38f12202b643f3867f59ce67f3e1e0": {
          "model_module": "@jupyter-widgets/base",
          "model_name": "LayoutModel",
          "model_module_version": "1.2.0",
          "state": {
            "_model_module": "@jupyter-widgets/base",
            "_model_module_version": "1.2.0",
            "_model_name": "LayoutModel",
            "_view_count": null,
            "_view_module": "@jupyter-widgets/base",
            "_view_module_version": "1.2.0",
            "_view_name": "LayoutView",
            "align_content": null,
            "align_items": null,
            "align_self": null,
            "border": null,
            "bottom": null,
            "display": null,
            "flex": null,
            "flex_flow": null,
            "grid_area": null,
            "grid_auto_columns": null,
            "grid_auto_flow": null,
            "grid_auto_rows": null,
            "grid_column": null,
            "grid_gap": null,
            "grid_row": null,
            "grid_template_areas": null,
            "grid_template_columns": null,
            "grid_template_rows": null,
            "height": null,
            "justify_content": null,
            "justify_items": null,
            "left": null,
            "margin": null,
            "max_height": null,
            "max_width": null,
            "min_height": null,
            "min_width": null,
            "object_fit": null,
            "object_position": null,
            "order": null,
            "overflow": null,
            "overflow_x": null,
            "overflow_y": null,
            "padding": null,
            "right": null,
            "top": null,
            "visibility": null,
            "width": null
          }
        },
        "03641fd9098042b8b6f691a479b1a283": {
          "model_module": "@jupyter-widgets/controls",
          "model_name": "DescriptionStyleModel",
          "model_module_version": "1.5.0",
          "state": {
            "_model_module": "@jupyter-widgets/controls",
            "_model_module_version": "1.5.0",
            "_model_name": "DescriptionStyleModel",
            "_view_count": null,
            "_view_module": "@jupyter-widgets/base",
            "_view_module_version": "1.2.0",
            "_view_name": "StyleView",
            "description_width": ""
          }
        },
        "ef47866b3eb543219acc6db19d8ea3a3": {
          "model_module": "@jupyter-widgets/base",
          "model_name": "LayoutModel",
          "model_module_version": "1.2.0",
          "state": {
            "_model_module": "@jupyter-widgets/base",
            "_model_module_version": "1.2.0",
            "_model_name": "LayoutModel",
            "_view_count": null,
            "_view_module": "@jupyter-widgets/base",
            "_view_module_version": "1.2.0",
            "_view_name": "LayoutView",
            "align_content": null,
            "align_items": null,
            "align_self": null,
            "border": null,
            "bottom": null,
            "display": null,
            "flex": null,
            "flex_flow": null,
            "grid_area": null,
            "grid_auto_columns": null,
            "grid_auto_flow": null,
            "grid_auto_rows": null,
            "grid_column": null,
            "grid_gap": null,
            "grid_row": null,
            "grid_template_areas": null,
            "grid_template_columns": null,
            "grid_template_rows": null,
            "height": null,
            "justify_content": null,
            "justify_items": null,
            "left": null,
            "margin": null,
            "max_height": null,
            "max_width": null,
            "min_height": null,
            "min_width": null,
            "object_fit": null,
            "object_position": null,
            "order": null,
            "overflow": null,
            "overflow_x": null,
            "overflow_y": null,
            "padding": null,
            "right": null,
            "top": null,
            "visibility": null,
            "width": null
          }
        },
        "c16d59820f6a43cf9b7544db8981642b": {
          "model_module": "@jupyter-widgets/controls",
          "model_name": "ProgressStyleModel",
          "model_module_version": "1.5.0",
          "state": {
            "_model_module": "@jupyter-widgets/controls",
            "_model_module_version": "1.5.0",
            "_model_name": "ProgressStyleModel",
            "_view_count": null,
            "_view_module": "@jupyter-widgets/base",
            "_view_module_version": "1.2.0",
            "_view_name": "StyleView",
            "bar_color": "yellow",
            "description_width": ""
          }
        },
        "634f16ab6f434f988832257bda369d17": {
          "model_module": "@jupyter-widgets/base",
          "model_name": "LayoutModel",
          "model_module_version": "1.2.0",
          "state": {
            "_model_module": "@jupyter-widgets/base",
            "_model_module_version": "1.2.0",
            "_model_name": "LayoutModel",
            "_view_count": null,
            "_view_module": "@jupyter-widgets/base",
            "_view_module_version": "1.2.0",
            "_view_name": "LayoutView",
            "align_content": null,
            "align_items": null,
            "align_self": null,
            "border": null,
            "bottom": null,
            "display": null,
            "flex": null,
            "flex_flow": null,
            "grid_area": null,
            "grid_auto_columns": null,
            "grid_auto_flow": null,
            "grid_auto_rows": null,
            "grid_column": null,
            "grid_gap": null,
            "grid_row": null,
            "grid_template_areas": null,
            "grid_template_columns": null,
            "grid_template_rows": null,
            "height": null,
            "justify_content": null,
            "justify_items": null,
            "left": null,
            "margin": null,
            "max_height": null,
            "max_width": null,
            "min_height": null,
            "min_width": null,
            "object_fit": null,
            "object_position": null,
            "order": null,
            "overflow": null,
            "overflow_x": null,
            "overflow_y": null,
            "padding": null,
            "right": null,
            "top": null,
            "visibility": null,
            "width": null
          }
        },
        "19c335381a554f83844229bcb5f3876b": {
          "model_module": "@jupyter-widgets/controls",
          "model_name": "DescriptionStyleModel",
          "model_module_version": "1.5.0",
          "state": {
            "_model_module": "@jupyter-widgets/controls",
            "_model_module_version": "1.5.0",
            "_model_name": "DescriptionStyleModel",
            "_view_count": null,
            "_view_module": "@jupyter-widgets/base",
            "_view_module_version": "1.2.0",
            "_view_name": "StyleView",
            "description_width": ""
          }
        },
        "d3225639fc4f4fad96047d0f1e86a016": {
          "model_module": "@jupyter-widgets/controls",
          "model_name": "HBoxModel",
          "model_module_version": "1.5.0",
          "state": {
            "_dom_classes": [],
            "_model_module": "@jupyter-widgets/controls",
            "_model_module_version": "1.5.0",
            "_model_name": "HBoxModel",
            "_view_count": null,
            "_view_module": "@jupyter-widgets/controls",
            "_view_module_version": "1.5.0",
            "_view_name": "HBoxView",
            "box_style": "",
            "children": [
              "IPY_MODEL_3cf2af034acf400c8d28bdfb49489f31",
              "IPY_MODEL_64593ab0d71d4ce5b4b21cced6904c51",
              "IPY_MODEL_d2f867092729411dbf3839b330f2acb1"
            ],
            "layout": "IPY_MODEL_ccf6801dae6843c29feb7356d5eaa875"
          }
        },
        "3cf2af034acf400c8d28bdfb49489f31": {
          "model_module": "@jupyter-widgets/controls",
          "model_name": "HTMLModel",
          "model_module_version": "1.5.0",
          "state": {
            "_dom_classes": [],
            "_model_module": "@jupyter-widgets/controls",
            "_model_module_version": "1.5.0",
            "_model_name": "HTMLModel",
            "_view_count": null,
            "_view_module": "@jupyter-widgets/controls",
            "_view_module_version": "1.5.0",
            "_view_name": "HTMLView",
            "description": "",
            "description_tooltip": null,
            "layout": "IPY_MODEL_8da39c8f0e2f4761b5f1dd9072fb333d",
            "placeholder": "​",
            "style": "IPY_MODEL_4a5a2369da0c4e6ab04df31c1b0a6240",
            "value": "chain 4 "
          }
        },
        "64593ab0d71d4ce5b4b21cced6904c51": {
          "model_module": "@jupyter-widgets/controls",
          "model_name": "FloatProgressModel",
          "model_module_version": "1.5.0",
          "state": {
            "_dom_classes": [],
            "_model_module": "@jupyter-widgets/controls",
            "_model_module_version": "1.5.0",
            "_model_name": "FloatProgressModel",
            "_view_count": null,
            "_view_module": "@jupyter-widgets/controls",
            "_view_module_version": "1.5.0",
            "_view_name": "ProgressView",
            "bar_style": "",
            "description": "",
            "description_tooltip": null,
            "layout": "IPY_MODEL_5b63676fd4ce4a6eaed17b0d7c05d81a",
            "max": 12,
            "min": 0,
            "orientation": "horizontal",
            "style": "IPY_MODEL_9d379c417a0a47f9905e45896a1693f0",
            "value": 0
          }
        },
        "d2f867092729411dbf3839b330f2acb1": {
          "model_module": "@jupyter-widgets/controls",
          "model_name": "HTMLModel",
          "model_module_version": "1.5.0",
          "state": {
            "_dom_classes": [],
            "_model_module": "@jupyter-widgets/controls",
            "_model_module_version": "1.5.0",
            "_model_name": "HTMLModel",
            "_view_count": null,
            "_view_module": "@jupyter-widgets/controls",
            "_view_module_version": "1.5.0",
            "_view_name": "HTMLView",
            "description": "",
            "description_tooltip": null,
            "layout": "IPY_MODEL_a4300edb12c04a178701bce3db318876",
            "placeholder": "​",
            "style": "IPY_MODEL_555f8feb8f0c450d92af29ea61f0ca4e",
            "value": " 00:00 Status"
          }
        },
        "ccf6801dae6843c29feb7356d5eaa875": {
          "model_module": "@jupyter-widgets/base",
          "model_name": "LayoutModel",
          "model_module_version": "1.2.0",
          "state": {
            "_model_module": "@jupyter-widgets/base",
            "_model_module_version": "1.2.0",
            "_model_name": "LayoutModel",
            "_view_count": null,
            "_view_module": "@jupyter-widgets/base",
            "_view_module_version": "1.2.0",
            "_view_name": "LayoutView",
            "align_content": null,
            "align_items": null,
            "align_self": null,
            "border": null,
            "bottom": null,
            "display": null,
            "flex": null,
            "flex_flow": null,
            "grid_area": null,
            "grid_auto_columns": null,
            "grid_auto_flow": null,
            "grid_auto_rows": null,
            "grid_column": null,
            "grid_gap": null,
            "grid_row": null,
            "grid_template_areas": null,
            "grid_template_columns": null,
            "grid_template_rows": null,
            "height": null,
            "justify_content": null,
            "justify_items": null,
            "left": null,
            "margin": null,
            "max_height": null,
            "max_width": null,
            "min_height": null,
            "min_width": null,
            "object_fit": null,
            "object_position": null,
            "order": null,
            "overflow": null,
            "overflow_x": null,
            "overflow_y": null,
            "padding": null,
            "right": null,
            "top": null,
            "visibility": null,
            "width": null
          }
        },
        "8da39c8f0e2f4761b5f1dd9072fb333d": {
          "model_module": "@jupyter-widgets/base",
          "model_name": "LayoutModel",
          "model_module_version": "1.2.0",
          "state": {
            "_model_module": "@jupyter-widgets/base",
            "_model_module_version": "1.2.0",
            "_model_name": "LayoutModel",
            "_view_count": null,
            "_view_module": "@jupyter-widgets/base",
            "_view_module_version": "1.2.0",
            "_view_name": "LayoutView",
            "align_content": null,
            "align_items": null,
            "align_self": null,
            "border": null,
            "bottom": null,
            "display": null,
            "flex": null,
            "flex_flow": null,
            "grid_area": null,
            "grid_auto_columns": null,
            "grid_auto_flow": null,
            "grid_auto_rows": null,
            "grid_column": null,
            "grid_gap": null,
            "grid_row": null,
            "grid_template_areas": null,
            "grid_template_columns": null,
            "grid_template_rows": null,
            "height": null,
            "justify_content": null,
            "justify_items": null,
            "left": null,
            "margin": null,
            "max_height": null,
            "max_width": null,
            "min_height": null,
            "min_width": null,
            "object_fit": null,
            "object_position": null,
            "order": null,
            "overflow": null,
            "overflow_x": null,
            "overflow_y": null,
            "padding": null,
            "right": null,
            "top": null,
            "visibility": null,
            "width": null
          }
        },
        "4a5a2369da0c4e6ab04df31c1b0a6240": {
          "model_module": "@jupyter-widgets/controls",
          "model_name": "DescriptionStyleModel",
          "model_module_version": "1.5.0",
          "state": {
            "_model_module": "@jupyter-widgets/controls",
            "_model_module_version": "1.5.0",
            "_model_name": "DescriptionStyleModel",
            "_view_count": null,
            "_view_module": "@jupyter-widgets/base",
            "_view_module_version": "1.2.0",
            "_view_name": "StyleView",
            "description_width": ""
          }
        },
        "5b63676fd4ce4a6eaed17b0d7c05d81a": {
          "model_module": "@jupyter-widgets/base",
          "model_name": "LayoutModel",
          "model_module_version": "1.2.0",
          "state": {
            "_model_module": "@jupyter-widgets/base",
            "_model_module_version": "1.2.0",
            "_model_name": "LayoutModel",
            "_view_count": null,
            "_view_module": "@jupyter-widgets/base",
            "_view_module_version": "1.2.0",
            "_view_name": "LayoutView",
            "align_content": null,
            "align_items": null,
            "align_self": null,
            "border": null,
            "bottom": null,
            "display": null,
            "flex": null,
            "flex_flow": null,
            "grid_area": null,
            "grid_auto_columns": null,
            "grid_auto_flow": null,
            "grid_auto_rows": null,
            "grid_column": null,
            "grid_gap": null,
            "grid_row": null,
            "grid_template_areas": null,
            "grid_template_columns": null,
            "grid_template_rows": null,
            "height": null,
            "justify_content": null,
            "justify_items": null,
            "left": null,
            "margin": null,
            "max_height": null,
            "max_width": null,
            "min_height": null,
            "min_width": null,
            "object_fit": null,
            "object_position": null,
            "order": null,
            "overflow": null,
            "overflow_x": null,
            "overflow_y": null,
            "padding": null,
            "right": null,
            "top": null,
            "visibility": null,
            "width": null
          }
        },
        "9d379c417a0a47f9905e45896a1693f0": {
          "model_module": "@jupyter-widgets/controls",
          "model_name": "ProgressStyleModel",
          "model_module_version": "1.5.0",
          "state": {
            "_model_module": "@jupyter-widgets/controls",
            "_model_module_version": "1.5.0",
            "_model_name": "ProgressStyleModel",
            "_view_count": null,
            "_view_module": "@jupyter-widgets/base",
            "_view_module_version": "1.2.0",
            "_view_name": "StyleView",
            "bar_color": "yellow",
            "description_width": ""
          }
        },
        "a4300edb12c04a178701bce3db318876": {
          "model_module": "@jupyter-widgets/base",
          "model_name": "LayoutModel",
          "model_module_version": "1.2.0",
          "state": {
            "_model_module": "@jupyter-widgets/base",
            "_model_module_version": "1.2.0",
            "_model_name": "LayoutModel",
            "_view_count": null,
            "_view_module": "@jupyter-widgets/base",
            "_view_module_version": "1.2.0",
            "_view_name": "LayoutView",
            "align_content": null,
            "align_items": null,
            "align_self": null,
            "border": null,
            "bottom": null,
            "display": null,
            "flex": null,
            "flex_flow": null,
            "grid_area": null,
            "grid_auto_columns": null,
            "grid_auto_flow": null,
            "grid_auto_rows": null,
            "grid_column": null,
            "grid_gap": null,
            "grid_row": null,
            "grid_template_areas": null,
            "grid_template_columns": null,
            "grid_template_rows": null,
            "height": null,
            "justify_content": null,
            "justify_items": null,
            "left": null,
            "margin": null,
            "max_height": null,
            "max_width": null,
            "min_height": null,
            "min_width": null,
            "object_fit": null,
            "object_position": null,
            "order": null,
            "overflow": null,
            "overflow_x": null,
            "overflow_y": null,
            "padding": null,
            "right": null,
            "top": null,
            "visibility": null,
            "width": null
          }
        },
        "555f8feb8f0c450d92af29ea61f0ca4e": {
          "model_module": "@jupyter-widgets/controls",
          "model_name": "DescriptionStyleModel",
          "model_module_version": "1.5.0",
          "state": {
            "_model_module": "@jupyter-widgets/controls",
            "_model_module_version": "1.5.0",
            "_model_name": "DescriptionStyleModel",
            "_view_count": null,
            "_view_module": "@jupyter-widgets/base",
            "_view_module_version": "1.2.0",
            "_view_name": "StyleView",
            "description_width": ""
          }
        }
      }
    }
  },
  "nbformat": 4,
  "nbformat_minor": 0
}